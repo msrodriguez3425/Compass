{
 "cells": [
  {
   "cell_type": "code",
   "execution_count": null,
   "metadata": {},
   "outputs": [],
   "source": [
    "import requests\n",
    "import pymongo\n",
    "import pandas as pd\n",
    "import time\n",
    "from openpyxl.styles import Font, Color, PatternFill, Border, Side, Alignment\n",
    "#from openpyxl.styles import PatternFill, Border, Side, Alignment, Protection, Font\n",
    "from openpyxl import load_workbook\n",
    "from splinter import Browser\n",
    "import win32com.client"
   ]
  }
 ],
 "metadata": {
  "kernelspec": {
   "display_name": "Python 3",
   "language": "python",
   "name": "python3"
  },
  "language_info": {
   "codemirror_mode": {
    "name": "ipython",
    "version": 3
   },
   "file_extension": ".py",
   "mimetype": "text/x-python",
   "name": "python",
   "nbconvert_exporter": "python",
   "pygments_lexer": "ipython3",
   "version": "3.7.3"
  }
 },
 "nbformat": 4,
 "nbformat_minor": 2
}
