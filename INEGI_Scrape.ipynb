{
 "cells": [
  {
   "cell_type": "code",
   "execution_count": 2,
   "metadata": {},
   "outputs": [],
   "source": [
    "from splinter import Browser"
   ]
  },
  {
   "cell_type": "code",
   "execution_count": 3,
   "metadata": {},
   "outputs": [],
   "source": [
    "executable_path = {'executable_path': 'chromedriver.exe'}\n",
    "browser = Browser('chrome', **executable_path, headless=False)\n",
    "base_url = \"https://www.inegi.org.mx/app/indicesdeprecios/Estructura.aspx?idEstructura=112001500010&ST=Producci%C3%B3n%20total,%20seg%C3%BAn%20actividad%20econ%C3%B3mica%20de%20origen%20SCIAN%202013\""
   ]
  },
  {
   "cell_type": "code",
   "execution_count": 4,
   "metadata": {},
   "outputs": [],
   "source": [
    "browser.visit(base_url)"
   ]
  },
  {
   "cell_type": "code",
   "execution_count": 25,
   "metadata": {},
   "outputs": [],
   "source": [
    "pluss = browser.find_by_css(\".glyphicon-plus\")"
   ]
  },
  {
   "cell_type": "code",
   "execution_count": 26,
   "metadata": {},
   "outputs": [
    {
     "data": {
      "text/plain": [
       "[<splinter.driver.webdriver.WebDriverElement at 0x1922670>,\n",
       " <splinter.driver.webdriver.WebDriverElement at 0x1922490>,\n",
       " <splinter.driver.webdriver.WebDriverElement at 0x1922610>,\n",
       " <splinter.driver.webdriver.WebDriverElement at 0x18c23b0>,\n",
       " <splinter.driver.webdriver.WebDriverElement at 0x18c2cd0>,\n",
       " <splinter.driver.webdriver.WebDriverElement at 0x18c2fd0>,\n",
       " <splinter.driver.webdriver.WebDriverElement at 0x18c27f0>,\n",
       " <splinter.driver.webdriver.WebDriverElement at 0x18c2770>,\n",
       " <splinter.driver.webdriver.WebDriverElement at 0x18c2590>,\n",
       " <splinter.driver.webdriver.WebDriverElement at 0x18c2910>,\n",
       " <splinter.driver.webdriver.WebDriverElement at 0x18c2650>,\n",
       " <splinter.driver.webdriver.WebDriverElement at 0x18c2b70>,\n",
       " <splinter.driver.webdriver.WebDriverElement at 0x18c2d10>,\n",
       " <splinter.driver.webdriver.WebDriverElement at 0x18c2550>,\n",
       " <splinter.driver.webdriver.WebDriverElement at 0x18c2990>,\n",
       " <splinter.driver.webdriver.WebDriverElement at 0x18c26d0>,\n",
       " <splinter.driver.webdriver.WebDriverElement at 0x18c2f50>,\n",
       " <splinter.driver.webdriver.WebDriverElement at 0x18c23f0>,\n",
       " <splinter.driver.webdriver.WebDriverElement at 0x18c2670>,\n",
       " <splinter.driver.webdriver.WebDriverElement at 0x5fc6c90>,\n",
       " <splinter.driver.webdriver.WebDriverElement at 0x5fc6cb0>,\n",
       " <splinter.driver.webdriver.WebDriverElement at 0x5fc6cd0>,\n",
       " <splinter.driver.webdriver.WebDriverElement at 0x5fc6cf0>,\n",
       " <splinter.driver.webdriver.WebDriverElement at 0x5fc6d10>,\n",
       " <splinter.driver.webdriver.WebDriverElement at 0x5fc6d30>,\n",
       " <splinter.driver.webdriver.WebDriverElement at 0x5fc6d50>,\n",
       " <splinter.driver.webdriver.WebDriverElement at 0x5fc6d70>,\n",
       " <splinter.driver.webdriver.WebDriverElement at 0x5fc6d90>,\n",
       " <splinter.driver.webdriver.WebDriverElement at 0x5fc6db0>,\n",
       " <splinter.driver.webdriver.WebDriverElement at 0x5fc6dd0>,\n",
       " <splinter.driver.webdriver.WebDriverElement at 0x5fc6df0>,\n",
       " <splinter.driver.webdriver.WebDriverElement at 0x5fc6e10>,\n",
       " <splinter.driver.webdriver.WebDriverElement at 0x5fc6e30>,\n",
       " <splinter.driver.webdriver.WebDriverElement at 0x5fc6e50>,\n",
       " <splinter.driver.webdriver.WebDriverElement at 0x5fc6e70>,\n",
       " <splinter.driver.webdriver.WebDriverElement at 0x5fc6e90>,\n",
       " <splinter.driver.webdriver.WebDriverElement at 0x5fc6eb0>,\n",
       " <splinter.driver.webdriver.WebDriverElement at 0x5fc6ed0>,\n",
       " <splinter.driver.webdriver.WebDriverElement at 0x5fc6ef0>,\n",
       " <splinter.driver.webdriver.WebDriverElement at 0x5fc6f10>,\n",
       " <splinter.driver.webdriver.WebDriverElement at 0x5fc6f30>,\n",
       " <splinter.driver.webdriver.WebDriverElement at 0x5fc6f50>,\n",
       " <splinter.driver.webdriver.WebDriverElement at 0x5fc6f70>,\n",
       " <splinter.driver.webdriver.WebDriverElement at 0x5fc6f90>,\n",
       " <splinter.driver.webdriver.WebDriverElement at 0x5fc6fb0>,\n",
       " <splinter.driver.webdriver.WebDriverElement at 0x5fc6fd0>,\n",
       " <splinter.driver.webdriver.WebDriverElement at 0x5fc6ff0>,\n",
       " <splinter.driver.webdriver.WebDriverElement at 0x5fcb030>,\n",
       " <splinter.driver.webdriver.WebDriverElement at 0x5fcb050>,\n",
       " <splinter.driver.webdriver.WebDriverElement at 0x5fcb070>,\n",
       " <splinter.driver.webdriver.WebDriverElement at 0x5fcb090>,\n",
       " <splinter.driver.webdriver.WebDriverElement at 0x5fcb0b0>,\n",
       " <splinter.driver.webdriver.WebDriverElement at 0x5fcb0d0>,\n",
       " <splinter.driver.webdriver.WebDriverElement at 0x5fcb0f0>,\n",
       " <splinter.driver.webdriver.WebDriverElement at 0x5fcb110>,\n",
       " <splinter.driver.webdriver.WebDriverElement at 0x5fcb130>,\n",
       " <splinter.driver.webdriver.WebDriverElement at 0x5fcb150>,\n",
       " <splinter.driver.webdriver.WebDriverElement at 0x5fcb170>,\n",
       " <splinter.driver.webdriver.WebDriverElement at 0x5fcb190>,\n",
       " <splinter.driver.webdriver.WebDriverElement at 0x5fcb1b0>,\n",
       " <splinter.driver.webdriver.WebDriverElement at 0x5fcb1d0>,\n",
       " <splinter.driver.webdriver.WebDriverElement at 0x5fcb1f0>,\n",
       " <splinter.driver.webdriver.WebDriverElement at 0x5fcb210>,\n",
       " <splinter.driver.webdriver.WebDriverElement at 0x5fcb230>,\n",
       " <splinter.driver.webdriver.WebDriverElement at 0x5fcb250>,\n",
       " <splinter.driver.webdriver.WebDriverElement at 0x5fcb270>,\n",
       " <splinter.driver.webdriver.WebDriverElement at 0x5fcb290>,\n",
       " <splinter.driver.webdriver.WebDriverElement at 0x5fcb2b0>,\n",
       " <splinter.driver.webdriver.WebDriverElement at 0x5fcb2d0>]"
      ]
     },
     "execution_count": 26,
     "metadata": {},
     "output_type": "execute_result"
    }
   ],
   "source": [
    "pluss"
   ]
  },
  {
   "cell_type": "code",
   "execution_count": 27,
   "metadata": {},
   "outputs": [
    {
     "data": {
      "text/plain": [
       "'nodo_1120015000100030001000100010'"
      ]
     },
     "execution_count": 27,
     "metadata": {},
     "output_type": "execute_result"
    }
   ],
   "source": [
    "pluss[0]._element.get_attribute('id')"
   ]
  },
  {
   "cell_type": "code",
   "execution_count": 28,
   "metadata": {},
   "outputs": [
    {
     "name": "stdout",
     "output_type": "stream",
     "text": [
      "nodo_1120015000100030001000100010\n",
      "nodo_1120015000100030001000100020\n",
      "nodo_1120015000100030001000100030\n",
      "nodo_1120015000100030001000100040\n",
      "nodo_1120015000100030001000100050\n",
      "nodo_1120015000100030001000200010\n",
      "nodo_1120015000100030001000200020\n",
      "nodo_1120015000100030001000200030\n",
      "nodo_1120015000100030001000200040\n",
      "nodo_1120015000100030001000200050\n",
      "nodo_1120015000100030001000300010\n",
      "nodo_1120015000100030001000300020\n",
      "nodo_1120015000100030001000400010\n",
      "nodo_112001500010005000200010\n",
      "nodo_112001500010005000200020\n",
      "nodo_112001500010005000200030\n",
      "nodo_112001500010005000300010\n",
      "nodo_112001500010005000300020\n",
      "nodo_112001500010005000400010\n",
      "nodo_112001500010005000400020\n",
      "nodo_112001500010005000500010\n",
      "nodo_112001500010005000500020\n",
      "nodo_112001500010005000500030\n",
      "nodo_112001500010005000500040\n",
      "nodo_112001500010005000500050\n",
      "nodo_112001500010005000500060\n",
      "nodo_112001500010005000500070\n",
      "nodo_112001500010005000500080\n",
      "nodo_112001500010005000500090\n",
      "nodo_112001500010005000500100\n",
      "nodo_112001500010005000500110\n",
      "nodo_112001500010005000500120\n",
      "nodo_112001500010005000500130\n",
      "nodo_112001500010005000500140\n",
      "nodo_112001500010005000500150\n",
      "nodo_112001500010005000500160\n",
      "nodo_112001500010005000500170\n",
      "nodo_112001500010005000500180\n",
      "nodo_112001500010005000500190\n",
      "nodo_112001500010005000500200\n",
      "nodo_112001500010005000500210\n",
      "nodo_112001500010006000100010\n",
      "nodo_112001500010006000100020\n",
      "nodo_112001500010006000100030\n",
      "nodo_112001500010006000100040\n",
      "nodo_112001500010006000100050\n",
      "nodo_112001500010006000100060\n",
      "nodo_112001500010006000100070\n",
      "nodo_112001500010006000100080\n",
      "nodo_112001500010006000100090\n",
      "nodo_112001500010006000200010\n",
      "nodo_112001500010006000200020\n",
      "nodo_112001500010006000200030\n",
      "nodo_112001500010006000200040\n",
      "nodo_112001500010006000200050\n",
      "nodo_112001500010006000300010\n",
      "nodo_112001500010006000300020\n",
      "nodo_112001500010006000400010\n",
      "nodo_112001500010006000500010\n",
      "nodo_112001500010006000500020\n",
      "nodo_112001500010006000600010\n",
      "nodo_112001500010006000700010\n",
      "nodo_112001500010006000700020\n",
      "nodo_1120015000100060008000100010\n",
      "nodo_112001500010006000800020\n",
      "nodo_11200150001000600090\n",
      "nodo_112001500010006001000010\n",
      "nodo_112001500010006001000020\n",
      "nodo_112001500010006001000030\n"
     ]
    }
   ],
   "source": [
    "for plus in pluss:\n",
    "    print(plus._element.get_attribute('id'))"
   ]
  },
  {
   "cell_type": "code",
   "execution_count": 29,
   "metadata": {},
   "outputs": [],
   "source": [
    "pluss[0].click()B"
   ]
  },
  {
   "cell_type": "code",
   "execution_count": 13,
   "metadata": {},
   "outputs": [
    {
     "name": "stdout",
     "output_type": "stream",
     "text": [
      "NOT LOADED YET...\n",
      "NOT LOADED YET...\n"
     ]
    }
   ],
   "source": [
    "clicked = False\n",
    "while not clicked:ls\n",
    "    try:\n",
    "        pluss = browser.find_by_css(\".glyphicon-plus\")\n",
    "        for plus in pluss:\n",
    "            plus.click()\n",
    "        clicked = True\n",
    "    except:\n",
    "        print(\"NOT LOADED YET...\")"
   ]
  },
  {
   "cell_type": "code",
   "execution_count": 44,
   "metadata": {},
   "outputs": [],
   "source": [
    "pluss = browser.find_by_css(\".glyphicon-plus\")"
   ]
  },
  {
   "cell_type": "code",
   "execution_count": 45,
   "metadata": {},
   "outputs": [
    {
     "ename": "ElementClickInterceptedException",
     "evalue": "Message: element click intercepted: Element <span id=\"nodo_1120015000100030001000100010\" class=\"glyphicon glyphicon-plus\" data-toggle=\"tooltip\" data-placement=\"left\" title=\"\" data-original-title=\"Expandir\"></span> is not clickable at point (110, 7). Other element would receive the click: <img alt=\"Siglas de INEGI\" class=\"comLogoIne\" src=\"data:image/png;base64,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\">\n  (Session info: chrome=79.0.3945.117)\n",
     "output_type": "error",
     "traceback": [
      "\u001b[1;31m---------------------------------------------------------------------------\u001b[0m",
      "\u001b[1;31mElementClickInterceptedException\u001b[0m          Traceback (most recent call last)",
      "\u001b[1;32m<ipython-input-45-e1b0c1f8afb8>\u001b[0m in \u001b[0;36m<module>\u001b[1;34m\u001b[0m\n\u001b[0;32m      1\u001b[0m \u001b[1;32mfor\u001b[0m \u001b[0mplus\u001b[0m \u001b[1;32min\u001b[0m \u001b[0mpluss\u001b[0m\u001b[1;33m:\u001b[0m\u001b[1;33m\u001b[0m\u001b[1;33m\u001b[0m\u001b[0m\n\u001b[1;32m----> 2\u001b[1;33m     \u001b[0mplus\u001b[0m\u001b[1;33m.\u001b[0m\u001b[0mclick\u001b[0m\u001b[1;33m(\u001b[0m\u001b[1;33m)\u001b[0m\u001b[1;33m\u001b[0m\u001b[1;33m\u001b[0m\u001b[0m\n\u001b[0m",
      "\u001b[1;32m~\\AppData\\Local\\Continuum\\anaconda3\\envs\\Compass\\lib\\site-packages\\splinter\\driver\\webdriver\\__init__.py\u001b[0m in \u001b[0;36mclick\u001b[1;34m(self)\u001b[0m\n\u001b[0;32m    632\u001b[0m \u001b[1;33m\u001b[0m\u001b[0m\n\u001b[0;32m    633\u001b[0m     \u001b[1;32mdef\u001b[0m \u001b[0mclick\u001b[0m\u001b[1;33m(\u001b[0m\u001b[0mself\u001b[0m\u001b[1;33m)\u001b[0m\u001b[1;33m:\u001b[0m\u001b[1;33m\u001b[0m\u001b[1;33m\u001b[0m\u001b[0m\n\u001b[1;32m--> 634\u001b[1;33m         \u001b[0mself\u001b[0m\u001b[1;33m.\u001b[0m\u001b[0m_element\u001b[0m\u001b[1;33m.\u001b[0m\u001b[0mclick\u001b[0m\u001b[1;33m(\u001b[0m\u001b[1;33m)\u001b[0m\u001b[1;33m\u001b[0m\u001b[1;33m\u001b[0m\u001b[0m\n\u001b[0m\u001b[0;32m    635\u001b[0m \u001b[1;33m\u001b[0m\u001b[0m\n\u001b[0;32m    636\u001b[0m     \u001b[1;32mdef\u001b[0m \u001b[0mcheck\u001b[0m\u001b[1;33m(\u001b[0m\u001b[0mself\u001b[0m\u001b[1;33m)\u001b[0m\u001b[1;33m:\u001b[0m\u001b[1;33m\u001b[0m\u001b[1;33m\u001b[0m\u001b[0m\n",
      "\u001b[1;32m~\\AppData\\Local\\Continuum\\anaconda3\\envs\\Compass\\lib\\site-packages\\selenium\\webdriver\\remote\\webelement.py\u001b[0m in \u001b[0;36mclick\u001b[1;34m(self)\u001b[0m\n\u001b[0;32m     78\u001b[0m     \u001b[1;32mdef\u001b[0m \u001b[0mclick\u001b[0m\u001b[1;33m(\u001b[0m\u001b[0mself\u001b[0m\u001b[1;33m)\u001b[0m\u001b[1;33m:\u001b[0m\u001b[1;33m\u001b[0m\u001b[1;33m\u001b[0m\u001b[0m\n\u001b[0;32m     79\u001b[0m         \u001b[1;34m\"\"\"Clicks the element.\"\"\"\u001b[0m\u001b[1;33m\u001b[0m\u001b[1;33m\u001b[0m\u001b[0m\n\u001b[1;32m---> 80\u001b[1;33m         \u001b[0mself\u001b[0m\u001b[1;33m.\u001b[0m\u001b[0m_execute\u001b[0m\u001b[1;33m(\u001b[0m\u001b[0mCommand\u001b[0m\u001b[1;33m.\u001b[0m\u001b[0mCLICK_ELEMENT\u001b[0m\u001b[1;33m)\u001b[0m\u001b[1;33m\u001b[0m\u001b[1;33m\u001b[0m\u001b[0m\n\u001b[0m\u001b[0;32m     81\u001b[0m \u001b[1;33m\u001b[0m\u001b[0m\n\u001b[0;32m     82\u001b[0m     \u001b[1;32mdef\u001b[0m \u001b[0msubmit\u001b[0m\u001b[1;33m(\u001b[0m\u001b[0mself\u001b[0m\u001b[1;33m)\u001b[0m\u001b[1;33m:\u001b[0m\u001b[1;33m\u001b[0m\u001b[1;33m\u001b[0m\u001b[0m\n",
      "\u001b[1;32m~\\AppData\\Local\\Continuum\\anaconda3\\envs\\Compass\\lib\\site-packages\\selenium\\webdriver\\remote\\webelement.py\u001b[0m in \u001b[0;36m_execute\u001b[1;34m(self, command, params)\u001b[0m\n\u001b[0;32m    631\u001b[0m             \u001b[0mparams\u001b[0m \u001b[1;33m=\u001b[0m \u001b[1;33m{\u001b[0m\u001b[1;33m}\u001b[0m\u001b[1;33m\u001b[0m\u001b[1;33m\u001b[0m\u001b[0m\n\u001b[0;32m    632\u001b[0m         \u001b[0mparams\u001b[0m\u001b[1;33m[\u001b[0m\u001b[1;34m'id'\u001b[0m\u001b[1;33m]\u001b[0m \u001b[1;33m=\u001b[0m \u001b[0mself\u001b[0m\u001b[1;33m.\u001b[0m\u001b[0m_id\u001b[0m\u001b[1;33m\u001b[0m\u001b[1;33m\u001b[0m\u001b[0m\n\u001b[1;32m--> 633\u001b[1;33m         \u001b[1;32mreturn\u001b[0m \u001b[0mself\u001b[0m\u001b[1;33m.\u001b[0m\u001b[0m_parent\u001b[0m\u001b[1;33m.\u001b[0m\u001b[0mexecute\u001b[0m\u001b[1;33m(\u001b[0m\u001b[0mcommand\u001b[0m\u001b[1;33m,\u001b[0m \u001b[0mparams\u001b[0m\u001b[1;33m)\u001b[0m\u001b[1;33m\u001b[0m\u001b[1;33m\u001b[0m\u001b[0m\n\u001b[0m\u001b[0;32m    634\u001b[0m \u001b[1;33m\u001b[0m\u001b[0m\n\u001b[0;32m    635\u001b[0m     \u001b[1;32mdef\u001b[0m \u001b[0mfind_element\u001b[0m\u001b[1;33m(\u001b[0m\u001b[0mself\u001b[0m\u001b[1;33m,\u001b[0m \u001b[0mby\u001b[0m\u001b[1;33m=\u001b[0m\u001b[0mBy\u001b[0m\u001b[1;33m.\u001b[0m\u001b[0mID\u001b[0m\u001b[1;33m,\u001b[0m \u001b[0mvalue\u001b[0m\u001b[1;33m=\u001b[0m\u001b[1;32mNone\u001b[0m\u001b[1;33m)\u001b[0m\u001b[1;33m:\u001b[0m\u001b[1;33m\u001b[0m\u001b[1;33m\u001b[0m\u001b[0m\n",
      "\u001b[1;32m~\\AppData\\Local\\Continuum\\anaconda3\\envs\\Compass\\lib\\site-packages\\selenium\\webdriver\\remote\\webdriver.py\u001b[0m in \u001b[0;36mexecute\u001b[1;34m(self, driver_command, params)\u001b[0m\n\u001b[0;32m    319\u001b[0m         \u001b[0mresponse\u001b[0m \u001b[1;33m=\u001b[0m \u001b[0mself\u001b[0m\u001b[1;33m.\u001b[0m\u001b[0mcommand_executor\u001b[0m\u001b[1;33m.\u001b[0m\u001b[0mexecute\u001b[0m\u001b[1;33m(\u001b[0m\u001b[0mdriver_command\u001b[0m\u001b[1;33m,\u001b[0m \u001b[0mparams\u001b[0m\u001b[1;33m)\u001b[0m\u001b[1;33m\u001b[0m\u001b[1;33m\u001b[0m\u001b[0m\n\u001b[0;32m    320\u001b[0m         \u001b[1;32mif\u001b[0m \u001b[0mresponse\u001b[0m\u001b[1;33m:\u001b[0m\u001b[1;33m\u001b[0m\u001b[1;33m\u001b[0m\u001b[0m\n\u001b[1;32m--> 321\u001b[1;33m             \u001b[0mself\u001b[0m\u001b[1;33m.\u001b[0m\u001b[0merror_handler\u001b[0m\u001b[1;33m.\u001b[0m\u001b[0mcheck_response\u001b[0m\u001b[1;33m(\u001b[0m\u001b[0mresponse\u001b[0m\u001b[1;33m)\u001b[0m\u001b[1;33m\u001b[0m\u001b[1;33m\u001b[0m\u001b[0m\n\u001b[0m\u001b[0;32m    322\u001b[0m             response['value'] = self._unwrap_value(\n\u001b[0;32m    323\u001b[0m                 response.get('value', None))\n",
      "\u001b[1;32m~\\AppData\\Local\\Continuum\\anaconda3\\envs\\Compass\\lib\\site-packages\\selenium\\webdriver\\remote\\errorhandler.py\u001b[0m in \u001b[0;36mcheck_response\u001b[1;34m(self, response)\u001b[0m\n\u001b[0;32m    240\u001b[0m                 \u001b[0malert_text\u001b[0m \u001b[1;33m=\u001b[0m \u001b[0mvalue\u001b[0m\u001b[1;33m[\u001b[0m\u001b[1;34m'alert'\u001b[0m\u001b[1;33m]\u001b[0m\u001b[1;33m.\u001b[0m\u001b[0mget\u001b[0m\u001b[1;33m(\u001b[0m\u001b[1;34m'text'\u001b[0m\u001b[1;33m)\u001b[0m\u001b[1;33m\u001b[0m\u001b[1;33m\u001b[0m\u001b[0m\n\u001b[0;32m    241\u001b[0m             \u001b[1;32mraise\u001b[0m \u001b[0mexception_class\u001b[0m\u001b[1;33m(\u001b[0m\u001b[0mmessage\u001b[0m\u001b[1;33m,\u001b[0m \u001b[0mscreen\u001b[0m\u001b[1;33m,\u001b[0m \u001b[0mstacktrace\u001b[0m\u001b[1;33m,\u001b[0m \u001b[0malert_text\u001b[0m\u001b[1;33m)\u001b[0m\u001b[1;33m\u001b[0m\u001b[1;33m\u001b[0m\u001b[0m\n\u001b[1;32m--> 242\u001b[1;33m         \u001b[1;32mraise\u001b[0m \u001b[0mexception_class\u001b[0m\u001b[1;33m(\u001b[0m\u001b[0mmessage\u001b[0m\u001b[1;33m,\u001b[0m \u001b[0mscreen\u001b[0m\u001b[1;33m,\u001b[0m \u001b[0mstacktrace\u001b[0m\u001b[1;33m)\u001b[0m\u001b[1;33m\u001b[0m\u001b[1;33m\u001b[0m\u001b[0m\n\u001b[0m\u001b[0;32m    243\u001b[0m \u001b[1;33m\u001b[0m\u001b[0m\n\u001b[0;32m    244\u001b[0m     \u001b[1;32mdef\u001b[0m \u001b[0m_value_or_default\u001b[0m\u001b[1;33m(\u001b[0m\u001b[0mself\u001b[0m\u001b[1;33m,\u001b[0m \u001b[0mobj\u001b[0m\u001b[1;33m,\u001b[0m \u001b[0mkey\u001b[0m\u001b[1;33m,\u001b[0m \u001b[0mdefault\u001b[0m\u001b[1;33m)\u001b[0m\u001b[1;33m:\u001b[0m\u001b[1;33m\u001b[0m\u001b[1;33m\u001b[0m\u001b[0m\n",
      "\u001b[1;31mElementClickInterceptedException\u001b[0m: Message: element click intercepted: Element <span id=\"nodo_1120015000100030001000100010\" class=\"glyphicon glyphicon-plus\" data-toggle=\"tooltip\" data-placement=\"left\" title=\"\" data-original-title=\"Expandir\"></span> is not clickable at point (110, 7). Other element would receive the click: <img alt=\"Siglas de INEGI\" class=\"comLogoIne\" src=\"data:image/png;base64,iVBORw0KGgoAAAANSUhEUgAAAKQAAAA4CAMAAABEz6NLAAAB6VBMVEUAAAD///////////////////////////////////////////////////////////////////////////////////////////////////////////////////////////////////////////////////////////////////////////////////////////////////////////////////////////////////////////////////////////////////////////////////////////////////////////////////////////////////////////////////////////////////////////////////////////////////////////////////////////////////////////////////////////////////////////////////////////////////////////////////////////////////////////////////////////////////////////////////////////////////////////////////////////////////////////////////////////////////////+MAXszAAAAonRSTlMAAAECAwQFBgcICQoLDA0ODxAREhMUFRcYGR0eICIkJissLTAxMjc4OjtAQUJDREZHSUpNT1BVVlxdX2JkZWZpbG5vcHFyc3R1dnh6e4CBgoiJjI2Oj5CSmZucnZ6foaKjpKWmp6ipra+wsrS3uLq7vL2+v8DBw8TFyMnLzM3Q0dPU1dbZ3d7f4OHi4+Tl5ufp6uvs7e7w8fL09ff4+vv8/f5g/hNvAAADw0lEQVRoge3ZaVfTQBQG4GugC7WkFAoFARVRUUQUETfEHUUQ3FdU3BWwroDgjqhUaUVBQVRA5pfadMtMMjOZ0zRH8XA/Ne2buc8pNJ30wqJ5UPC3ASI1b5DgwUqCSMnuxc4M0JcTC7r0L2c43bJHV/qcLcudrc8pJUeXIc6OIyWElVeJTSiPhts3a6GtWLBT81r5qTeIWmRsSVNgkp5TakKJlODPSHxkpN5vkwSRa3qZjfHYys45tjBFJEL3/SLI7HOcxmrMdYZPTBWJRlYYI0uGeI2TsYKnBsSUkWiszAhZ9pnbOBGTXxkaU0aioI+PLA3xG8djUpexMXUkCkg8pDxo0DieaxAwmkCiBh7yllHjWMzPufCkBTnpZyO3GzaO5c6LGM0g0WUmMveLGLJ42nIkWsVCnjZuHM2dFDKaQz5gIPOnyNxMOBir4ZfJUnL2cc2CH/p7aNVtBokq6chGIhSql4FeVeRq7UsZOTCFvEdHvsAzvT5m3+N4bnoLj2gCiSpoyHz8u3goh933Mb7ULr7RBDJAQ1bjifWcvp+w3HOJEzSHRGspyN3YcZjXG1/ogIHRDLKPgjyMHT8rZ1Qkl4MvVJPAFJYQ5UoDEtXqka20nLYiOS9+XJnA9GiCAzXmkW8dFiMR2msaiRotR86Wm0ZOFlqNRB2mkei65cigeSTqsxppaoNBqQXkAvL/Q96Mb5CDartUkW3frUImS10mVWTdxlkmsgk77vcySoustQIJ+5lIfKs2ytmq2fATmy1BwjUWkrh1qWYjYQzLDWZagpTfMZB5v/HmrLuwSD3Bz2yxBAkVlN8VozdiA/gzPXlM5Ani1H2WIOEsA7mHeCrUkMtAVpPn3l1H/MnThJQ/0pFe7RV1PKgrJWfX/hozN4HVr/QgoYaOFLlSRnPHjHPmkXCFjnSPiCGLfooji2hI4oaThfTht84qEjaJITUfHS7STUXiX3wsJFThlxsVSftM0ZCeUWEkhGnIOyJIaKEjHZTNDAUJdeLISzTkBiGkdJWKBN9rISTwZj0kcjUNCdhggI0EBzE/UEckBXxl8nSjtzyJhA4aMk+dIHCQYLtARYL3oQgS3AFRZLY6llKRUJC8D+QhAXaonzF8bJd5ZEYACfaj9F2fDgk53RQkZB78KoKEwouJX+jJAeiy28yxIR5bLjIAVUraGdYjI29xfdc3YySA/1BgSo8EKG17QQeQseLmRz8EkJF/4a03Qjpk9P10ZMWG8thU3Ab6UqbqqQ/lJbuLMZP3aHZ7GXZnYij/z9cCMl31B1kKRzz0eXywAAAAAElFTkSuQmCC\">\n  (Session info: chrome=79.0.3945.117)\n"
     ]
    }
   ],
   "source": [
    "for plus in pluss:\n",
    "    plus.click()"
   ]
  },
  {
   "cell_type": "code",
   "execution_count": null,
   "metadata": {},
   "outputs": [],
   "source": []
  },
  {
   "cell_type": "code",
   "execution_count": null,
   "metadata": {},
   "outputs": [],
   "source": []
  }
 ],
 "metadata": {
  "kernelspec": {
   "display_name": "Python 3",
   "language": "python",
   "name": "python3"
  }
 },
 "nbformat": 4,
 "nbformat_minor": 2
}
