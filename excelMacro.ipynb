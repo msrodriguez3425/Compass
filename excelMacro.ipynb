{
 "cells": [
  {
   "cell_type": "code",
   "execution_count": 1,
   "metadata": {},
   "outputs": [],
   "source": [
    "import win32com.client\n",
    "\n",
    "\n",
    "\n",
    "xl=win32com.client.Dispatch(\"Excel.Application\")\n",
    "    \n",
    "\n",
    "wb = xl.Workbooks.Open(\"N:/Lsolis/eco/SHCP/Historicos/1Ingreso_gasto_fincanc_sector_publico_test.xlsm\")\n",
    "\n",
    "xl.Application.Run(\"1Ingreso_gasto_fincanc_sector_publico_test.xlsm!CopySheetsFromScrapedData\")\n",
    "\n",
    "wb.Save()\n",
    "wb.Close()\n",
    "\n",
    "\n",
    "del xl"
   ]
  },
  {
   "cell_type": "code",
   "execution_count": null,
   "metadata": {},
   "outputs": [],
   "source": []
  }
 ],
 "metadata": {
  "kernelspec": {
   "display_name": "Python 3",
   "language": "python",
   "name": "python3"
  },
  "language_info": {
   "codemirror_mode": {
    "name": "ipython",
    "version": 3
   },
   "file_extension": ".py",
   "mimetype": "text/x-python",
   "name": "python",
   "nbconvert_exporter": "python",
   "pygments_lexer": "ipython3",
   "version": "3.7.3"
  }
 },
 "nbformat": 4,
 "nbformat_minor": 2
}
