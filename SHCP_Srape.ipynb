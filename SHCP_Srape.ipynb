{
 "cells": [
  {
   "cell_type": "code",
   "execution_count": 1,
   "metadata": {},
   "outputs": [],
   "source": [
    "from bs4 import BeautifulSoup as bs\n",
    "import requests\n",
    "import pymongo\n",
    "import pandas as pd\n",
    "import time\n",
    "from openpyxl.styles import Font, Color, PatternFill, Border, Side, Alignment\n",
    "#from openpyxl.styles import PatternFill, Border, Side, Alignment, Protection, Font\n",
    "from splinter import Browser\n",
    "from openpyxl import load_workbook"
   ]
  },
  {
   "cell_type": "code",
   "execution_count": 2,
   "metadata": {},
   "outputs": [],
   "source": [
    "def click_on_something(strings,types_,first = False,by_text = '',used_already = []):\n",
    "    found = False\n",
    "    my_dict = {}\n",
    "    my_dict[\"strings\"] = strings\n",
    "    my_dict[\"types\"] = types_\n",
    "    print(my_dict)\n",
    "    j = 0\n",
    "    while found == False:\n",
    "        try: \n",
    "            to_click = browser\n",
    "            for i in range(0,len(my_dict[\"strings\"])):\n",
    "                if my_dict[\"types\"][i] == \"id\":\n",
    "                    to_click = to_click.find_by_id(my_dict[\"strings\"][i])\n",
    "                elif my_dict[\"types\"][i] == \"css\":\n",
    "                    blah = f\".{my_dict['strings'][i]}\"\n",
    "                    to_click = to_click.find_by_css(blah)\n",
    "                    #In the case of selecting boundlists, must select the one that hasent been used yet\n",
    "                    if used_already and my_dict['strings'][i] == 'x-boundlist':\n",
    "                        for obj in to_click:\n",
    "                            if obj not in used_already:\n",
    "                                to_click = obj\n",
    "                else:\n",
    "                    print(\"types_ invalid input: must be id or css\")\n",
    "                print(f\"to click: {to_click}\")\n",
    "            #If not looking to click on the first returned object\n",
    "            if first == False:\n",
    "                #if searching element by text (e.g an option in a drop down)\n",
    "                if by_text:\n",
    "                    clicked = False\n",
    "                    for obj in to_click:\n",
    "                        if obj.text == by_text:\n",
    "                            obj.click()\n",
    "                            clicked = True\n",
    "                    if clicked == False:\n",
    "                        print(\"by_text invalid input: text not found\")\n",
    "                        break\n",
    "                #if not searching by text (e.g a drop down)\n",
    "                else:\n",
    "                    to_click.click()\n",
    "                found = True\n",
    "            #if looking to click on the first returned object\n",
    "            elif first == True:\n",
    "                to_click.first.click()\n",
    "                found = True\n",
    "            else:\n",
    "                print(\"first invalid input: must be True or False\")\n",
    "                break\n",
    "            return to_click\n",
    "        \n",
    "        except AttributeError:\n",
    "            j += 1\n",
    "            print(f\"looking for element. attempt number {j}\")\n",
    "            \n",
    "        if j > 10:\n",
    "            print(\"Either app didn't load properly, or internet is down/weak\")\n",
    "            break"
   ]
  },
  {
   "cell_type": "code",
   "execution_count": 3,
   "metadata": {},
   "outputs": [],
   "source": [
    "def add_to_used(used_already,xboundlists):\n",
    "    for lst in xboundlists:\n",
    "        el_id = lst._element.get_attribute('id')\n",
    "        if el_id not in used_already:\n",
    "            used_already.append(el_id)\n",
    "    return used_already"
   ]
  },
  {
   "cell_type": "code",
   "execution_count": 4,
   "metadata": {},
   "outputs": [],
   "source": [
    "executable_path = {'executable_path': 'chromedriver.exe'}\n",
    "browser = Browser('chrome', **executable_path, headless=False)\n",
    "\n",
    "#base_url = \"presto.hacienda.gob.mx\"\n",
    "#table_url = \"/presto/files/system/mashlets/app_layout_estopor/index.html?param_formato_desc=Balance%20del%20Sector%20P%C3%BAblico&param_formato=1&param_unidad=1&param_tipo=1&param_lenguaje=1&param_clasificacion=1& \"\n",
    "\n",
    "url = \"http://presto.hacienda.gob.mx/presto/files/system/mashlets/app_layout_estopor/index.html?param_formato_desc=Balance%20del%20Sector%20P%C3%BAblico&param_formato=1&param_unidad=1&param_tipo=1&param_lenguaje=1&param_clasificacion=1&\"\n",
    "#url = \"http://www.banxico.org.mx/\"\n",
    "browser.visit(url)"
   ]
  },
  {
   "cell_type": "code",
   "execution_count": 5,
   "metadata": {},
   "outputs": [],
   "source": [
    "##### SERIE ######"
   ]
  },
  {
   "cell_type": "code",
   "execution_count": 6,
   "metadata": {},
   "outputs": [
    {
     "name": "stdout",
     "output_type": "stream",
     "text": [
      "{'strings': ['tab-1013'], 'types': ['id']}\n",
      "to click: []\n",
      "looking for element. attempt number 1\n",
      "to click: [<splinter.driver.webdriver.WebDriverElement object at 0x0C0F8830>]\n",
      "{'strings': ['cmp_series_SERIE-triggerWrap', 'x-trigger-index-0'], 'types': ['id', 'css']}\n",
      "to click: []\n",
      "looking for element. attempt number 1\n",
      "to click: [<splinter.driver.webdriver.WebDriverElement object at 0x0C0F8830>]\n",
      "to click: [<splinter.driver.webdriver.WebDriverElement object at 0x0C0F8350>]\n",
      "{'strings': ['tab-1012'], 'types': ['id']}\n",
      "to click: [<splinter.driver.webdriver.WebDriverElement object at 0x0C100EB0>]\n",
      "walao\n",
      "{'strings': ['tab-1013'], 'types': ['id']}\n",
      "to click: [<splinter.driver.webdriver.WebDriverElement object at 0x0B423510>]\n",
      "{'strings': ['cmp_series_SERIE-triggerWrap', 'x-trigger-index-0'], 'types': ['id', 'css']}\n",
      "to click: [<splinter.driver.webdriver.WebDriverElement object at 0x0C0F8690>]\n",
      "to click: [<splinter.driver.webdriver.WebDriverElement object at 0x0BBEDB50>]\n",
      "{'strings': ['tab-1012'], 'types': ['id']}\n",
      "to click: [<splinter.driver.webdriver.WebDriverElement object at 0x06721110>]\n",
      "walao\n",
      "{'strings': ['tab-1013'], 'types': ['id']}\n",
      "to click: [<splinter.driver.webdriver.WebDriverElement object at 0x0B423510>]\n",
      "{'strings': ['cmp_series_SERIE-triggerWrap', 'x-trigger-index-0'], 'types': ['id', 'css']}\n",
      "to click: [<splinter.driver.webdriver.WebDriverElement object at 0x0C0F8690>]\n",
      "to click: [<splinter.driver.webdriver.WebDriverElement object at 0x0BBEDB50>]\n",
      "{'strings': ['tab-1012'], 'types': ['id']}\n",
      "to click: [<splinter.driver.webdriver.WebDriverElement object at 0x0BBED490>]\n",
      "walao\n",
      "{'strings': ['tab-1013'], 'types': ['id']}\n",
      "to click: [<splinter.driver.webdriver.WebDriverElement object at 0x06721110>]\n",
      "{'strings': ['cmp_series_SERIE-triggerWrap', 'x-trigger-index-0'], 'types': ['id', 'css']}\n",
      "to click: [<splinter.driver.webdriver.WebDriverElement object at 0x06BE92F0>]\n",
      "to click: [<splinter.driver.webdriver.WebDriverElement object at 0x0C0F8350>]\n"
     ]
    }
   ],
   "source": [
    "#clicking the serie tab and the serie drop down (basically waiting for page to load)\n",
    "#serie_drop = browser.find_by_id(\"cmp_series_SERIE-triggerWrap\").find_by_css(\".x-trigger-index-0\")\n",
    "#serie_drop.click()\n",
    "loaded = False\n",
    "while loaded == False:\n",
    "    click_on_something([\"tab-1013\"],[\"id\"])\n",
    "    try:\n",
    "        click_on_something([\"cmp_series_SERIE-triggerWrap\",\"x-trigger-index-0\"],[\"id\",\"css\"])\n",
    "        loaded = True\n",
    "    except:\n",
    "        click_on_something([\"tab-1012\"],[\"id\"])\n",
    "        print(\"walao\")"
   ]
  },
  {
   "cell_type": "code",
   "execution_count": 7,
   "metadata": {},
   "outputs": [
    {
     "name": "stdout",
     "output_type": "stream",
     "text": [
      "{'strings': ['list-ct', 'x-column-header-text'], 'types': ['css', 'css']}\n",
      "to click: [<splinter.driver.webdriver.WebDriverElement object at 0x06793ED0>]\n",
      "to click: [<splinter.driver.webdriver.WebDriverElement object at 0x06793E10>, <splinter.driver.webdriver.WebDriverElement object at 0x06793FF0>]\n"
     ]
    }
   ],
   "source": [
    "\n",
    "#Clicking the todas las series button\n",
    "#select_all = browser.find_by_css(\".list-ct\").find_by_css(\".x-column-header-text\").first\n",
    "#select_all.click()\n",
    "series_clicked = False\n",
    "while series_clicked == False:\n",
    "    click_on_something([\"list-ct\",\"x-column-header-text\"],[\"css\",\"css\"],True)\n",
    "    test = browser.find_by_id(\"cmp_series_SERIE-inputEl\")._element.get_attribute('value')\n",
    "    if test:\n",
    "        series_clicked = True\n",
    "        "
   ]
  },
  {
   "cell_type": "code",
   "execution_count": 8,
   "metadata": {},
   "outputs": [
    {
     "name": "stdout",
     "output_type": "stream",
     "text": [
      "{'strings': ['cmp_cuadro_PRESENTACION', 'x-trigger-index-0'], 'types': ['id', 'css']}\n",
      "to click: [<splinter.driver.webdriver.WebDriverElement object at 0x06793E30>]\n",
      "to click: [<splinter.driver.webdriver.WebDriverElement object at 0x0C0F80D0>]\n",
      "{'strings': ['x-boundlist', 'x-boundlist-item'], 'types': ['css', 'css']}\n",
      "to click: [<splinter.driver.webdriver.WebDriverElement object at 0x06793ED0>]\n",
      "to click: [<splinter.driver.webdriver.WebDriverElement object at 0x0C100E50>, <splinter.driver.webdriver.WebDriverElement object at 0x0C100A50>, <splinter.driver.webdriver.WebDriverElement object at 0x0C100890>]\n"
     ]
    },
    {
     "data": {
      "text/plain": [
       "['boundlist-1053']"
      ]
     },
     "execution_count": 8,
     "metadata": {},
     "output_type": "execute_result"
    }
   ],
   "source": [
    "#Clicking on cifras drop down\n",
    "#cifras_drop = browser.find_by_id(\"cmp_cuadro_PRESENTACION\").find_by_css(\".x-trigger-index-0\")\n",
    "#cifras_drop.click()\n",
    "cifras_drop = click_on_something([\"cmp_cuadro_PRESENTACION\",\"x-trigger-index-0\"],[\"id\",\"css\"])\n",
    "\n",
    "#Clicking on millones de pesos\n",
    "cifras_opts = click_on_something([\"x-boundlist\",\"x-boundlist-item\"],[\"css\",\"css\"],False,\"Millones de pesos\")\n",
    "#Upon clicking the dropdown, an x-boundlist is generated, must add it to used_aleady to we dont use it again\n",
    "used_already = []\n",
    "used_already = add_to_used(used_already,browser.find_by_css(\".x-boundlist\"))\n",
    "used_already"
   ]
  },
  {
   "cell_type": "code",
   "execution_count": 9,
   "metadata": {},
   "outputs": [
    {
     "name": "stdout",
     "output_type": "stream",
     "text": [
      "{'strings': ['cmp_cuadro_DE', 'x-trigger-cell', 'x-trigger-index-0'], 'types': ['id', 'css', 'css']}\n",
      "to click: [<splinter.driver.webdriver.WebDriverElement object at 0x0C100950>]\n",
      "to click: [<splinter.driver.webdriver.WebDriverElement object at 0x0C100F30>]\n",
      "to click: [<splinter.driver.webdriver.WebDriverElement object at 0x0C0F8BF0>]\n"
     ]
    }
   ],
   "source": [
    "#Clicking on year lower limit drop down\n",
    "#low_lim_drop = browser.find_by_id(\"cmp_cuadro_DE\").find_by_css(\".x-trigger-cell\").find_by_css(\".x-trigger-index-0\")\n",
    "#low_lim_drop.click()\n",
    "low_lim_drop = click_on_something([\"cmp_cuadro_DE\",\"x-trigger-cell\",\"x-trigger-index-0\"],[\"id\",\"css\",\"css\"])\n"
   ]
  },
  {
   "cell_type": "code",
   "execution_count": 10,
   "metadata": {},
   "outputs": [
    {
     "name": "stdout",
     "output_type": "stream",
     "text": [
      "{'strings': ['x-boundlist', 'x-boundlist-item'], 'types': ['css', 'css']}\n",
      "to click: <splinter.driver.webdriver.WebDriverElement object at 0x0C0F8210>\n",
      "to click: [<splinter.driver.webdriver.WebDriverElement object at 0x0C100CF0>, <splinter.driver.webdriver.WebDriverElement object at 0x0C100F30>, <splinter.driver.webdriver.WebDriverElement object at 0x0D1080F0>, <splinter.driver.webdriver.WebDriverElement object at 0x0D1084D0>, <splinter.driver.webdriver.WebDriverElement object at 0x0D1084F0>, <splinter.driver.webdriver.WebDriverElement object at 0x0D108530>, <splinter.driver.webdriver.WebDriverElement object at 0x0D108550>, <splinter.driver.webdriver.WebDriverElement object at 0x0D108570>, <splinter.driver.webdriver.WebDriverElement object at 0x0D108590>, <splinter.driver.webdriver.WebDriverElement object at 0x0D108510>, <splinter.driver.webdriver.WebDriverElement object at 0x0D1085B0>, <splinter.driver.webdriver.WebDriverElement object at 0x0D1085D0>, <splinter.driver.webdriver.WebDriverElement object at 0x0D1085F0>, <splinter.driver.webdriver.WebDriverElement object at 0x0D108610>, <splinter.driver.webdriver.WebDriverElement object at 0x0D108630>, <splinter.driver.webdriver.WebDriverElement object at 0x0D108650>, <splinter.driver.webdriver.WebDriverElement object at 0x0D108670>, <splinter.driver.webdriver.WebDriverElement object at 0x0D108690>, <splinter.driver.webdriver.WebDriverElement object at 0x0D1086B0>, <splinter.driver.webdriver.WebDriverElement object at 0x0D1086D0>, <splinter.driver.webdriver.WebDriverElement object at 0x0D1086F0>, <splinter.driver.webdriver.WebDriverElement object at 0x0D108710>, <splinter.driver.webdriver.WebDriverElement object at 0x0D108730>, <splinter.driver.webdriver.WebDriverElement object at 0x0D108750>, <splinter.driver.webdriver.WebDriverElement object at 0x0D108770>, <splinter.driver.webdriver.WebDriverElement object at 0x0D108790>, <splinter.driver.webdriver.WebDriverElement object at 0x0D1087B0>, <splinter.driver.webdriver.WebDriverElement object at 0x0D1087D0>, <splinter.driver.webdriver.WebDriverElement object at 0x0D1087F0>, <splinter.driver.webdriver.WebDriverElement object at 0x0D108810>]\n"
     ]
    },
    {
     "data": {
      "text/plain": [
       "['boundlist-1053', 'boundlist-1055']"
      ]
     },
     "execution_count": 10,
     "metadata": {},
     "output_type": "execute_result"
    }
   ],
   "source": [
    "#Clicking on the latest year in the low_lim_opts option menu\n",
    "low_lim_opts = click_on_something([\"x-boundlist\",\"x-boundlist-item\"],[\"css\",\"css\"],True,'',used_already)\n",
    "#adding bound list generated by clicking low_lim_drop to used_already\n",
    "used_already = add_to_used(used_already,browser.find_by_css(\".x-boundlist\"))\n",
    "used_already"
   ]
  },
  {
   "cell_type": "code",
   "execution_count": 11,
   "metadata": {},
   "outputs": [
    {
     "name": "stdout",
     "output_type": "stream",
     "text": [
      "{'strings': ['cmp_cuadro_A', 'x-trigger-index-0'], 'types': ['id', 'css']}\n",
      "to click: [<splinter.driver.webdriver.WebDriverElement object at 0x067A7510>]\n",
      "to click: [<splinter.driver.webdriver.WebDriverElement object at 0x067A73F0>]\n"
     ]
    }
   ],
   "source": [
    "#Clicking on year upper limit drop down\n",
    "#up_lim_drop = browser.find_by_id(\"cmp_cuadro_A\").find_by_css(\".x-trigger-index-0\")\n",
    "#up_lim_drop.click()\n",
    "up_lim_drop = click_on_something([\"cmp_cuadro_A\",\"x-trigger-index-0\"],[\"id\",\"css\"])"
   ]
  },
  {
   "cell_type": "code",
   "execution_count": 12,
   "metadata": {},
   "outputs": [
    {
     "name": "stdout",
     "output_type": "stream",
     "text": [
      "{'strings': ['x-boundlist', 'x-boundlist-item'], 'types': ['css', 'css']}\n",
      "to click: <splinter.driver.webdriver.WebDriverElement object at 0x0D1088F0>\n",
      "to click: [<splinter.driver.webdriver.WebDriverElement object at 0x067A70F0>, <splinter.driver.webdriver.WebDriverElement object at 0x067A7330>, <splinter.driver.webdriver.WebDriverElement object at 0x0D1088D0>, <splinter.driver.webdriver.WebDriverElement object at 0x0D108CB0>, <splinter.driver.webdriver.WebDriverElement object at 0x0D108CD0>, <splinter.driver.webdriver.WebDriverElement object at 0x0D108D10>, <splinter.driver.webdriver.WebDriverElement object at 0x0D108D30>, <splinter.driver.webdriver.WebDriverElement object at 0x0D108D50>, <splinter.driver.webdriver.WebDriverElement object at 0x0D108D70>, <splinter.driver.webdriver.WebDriverElement object at 0x0D108CF0>, <splinter.driver.webdriver.WebDriverElement object at 0x0D108D90>, <splinter.driver.webdriver.WebDriverElement object at 0x0D108DB0>, <splinter.driver.webdriver.WebDriverElement object at 0x0D108DD0>, <splinter.driver.webdriver.WebDriverElement object at 0x0D108DF0>, <splinter.driver.webdriver.WebDriverElement object at 0x0D108E10>, <splinter.driver.webdriver.WebDriverElement object at 0x0D108E30>, <splinter.driver.webdriver.WebDriverElement object at 0x0D108E50>, <splinter.driver.webdriver.WebDriverElement object at 0x0BBEDB50>, <splinter.driver.webdriver.WebDriverElement object at 0x0BBED490>, <splinter.driver.webdriver.WebDriverElement object at 0x06721110>, <splinter.driver.webdriver.WebDriverElement object at 0x0B9D7570>, <splinter.driver.webdriver.WebDriverElement object at 0x06793E90>, <splinter.driver.webdriver.WebDriverElement object at 0x06793EF0>, <splinter.driver.webdriver.WebDriverElement object at 0x06793ED0>, <splinter.driver.webdriver.WebDriverElement object at 0x06793E50>, <splinter.driver.webdriver.WebDriverElement object at 0x06793DD0>, <splinter.driver.webdriver.WebDriverElement object at 0x06793FF0>, <splinter.driver.webdriver.WebDriverElement object at 0x0C0F8830>, <splinter.driver.webdriver.WebDriverElement object at 0x0C0F8DF0>, <splinter.driver.webdriver.WebDriverElement object at 0x0C0F8A50>]\n"
     ]
    },
    {
     "data": {
      "text/plain": [
       "['boundlist-1053', 'boundlist-1055', 'boundlist-1057']"
      ]
     },
     "execution_count": 12,
     "metadata": {},
     "output_type": "execute_result"
    }
   ],
   "source": [
    "#Clicking on the latest year in the up_lim_opts option menu\n",
    "low_lim_opts = click_on_something([\"x-boundlist\",\"x-boundlist-item\"],[\"css\",\"css\"],True,'',used_already)\n",
    "#adding bound list generated by clicking low_lim_drop to used_already\n",
    "used_already = add_to_used(used_already,browser.find_by_css(\".x-boundlist\"))\n",
    "used_already"
   ]
  },
  {
   "cell_type": "code",
   "execution_count": 13,
   "metadata": {},
   "outputs": [
    {
     "name": "stdout",
     "output_type": "stream",
     "text": [
      "{'strings': ['cmp_series_CONSULTAR_SERIES-btnEl'], 'types': ['id']}\n",
      "to click: [<splinter.driver.webdriver.WebDriverElement object at 0x067A7610>]\n",
      "consultar button clicked\n",
      "alert accepted\n",
      "{'strings': ['cmp_series_CONSULTAR_SERIES-btnEl'], 'types': ['id']}\n",
      "to click: [<splinter.driver.webdriver.WebDriverElement object at 0x0C100E70>]\n",
      "consultar button clicked\n",
      "alert accepted\n",
      "{'strings': ['cmp_series_CONSULTAR_SERIES-btnEl'], 'types': ['id']}\n",
      "to click: [<splinter.driver.webdriver.WebDriverElement object at 0x067A7610>]\n",
      "no consultar button\n",
      "{'strings': ['cmp_series_CONSULTAR_SERIES-btnEl'], 'types': ['id']}\n",
      "to click: [<splinter.driver.webdriver.WebDriverElement object at 0x0C0F8690>]\n",
      "no consultar button\n",
      "{'strings': ['cmp_series_CONSULTAR_SERIES-btnEl'], 'types': ['id']}\n",
      "to click: [<splinter.driver.webdriver.WebDriverElement object at 0x067A7610>]\n",
      "no consultar button\n",
      "{'strings': ['cmp_series_CONSULTAR_SERIES-btnEl'], 'types': ['id']}\n",
      "to click: [<splinter.driver.webdriver.WebDriverElement object at 0x067A7430>]\n",
      "no consultar button\n",
      "{'strings': ['cmp_series_CONSULTAR_SERIES-btnEl'], 'types': ['id']}\n",
      "to click: [<splinter.driver.webdriver.WebDriverElement object at 0x067A7610>]\n",
      "no consultar button\n",
      "{'strings': ['cmp_series_CONSULTAR_SERIES-btnEl'], 'types': ['id']}\n",
      "to click: [<splinter.driver.webdriver.WebDriverElement object at 0x0C0F8690>]\n",
      "no consultar button\n",
      "{'strings': ['cmp_series_CONSULTAR_SERIES-btnEl'], 'types': ['id']}\n",
      "to click: [<splinter.driver.webdriver.WebDriverElement object at 0x067A7610>]\n",
      "no consultar button\n",
      "{'strings': ['cmp_series_CONSULTAR_SERIES-btnEl'], 'types': ['id']}\n",
      "to click: [<splinter.driver.webdriver.WebDriverElement object at 0x0C0F8E30>]\n",
      "no consultar button\n",
      "{'strings': ['cmp_series_CONSULTAR_SERIES-btnEl'], 'types': ['id']}\n",
      "to click: [<splinter.driver.webdriver.WebDriverElement object at 0x0D1084B0>]\n",
      "no consultar button\n",
      "{'strings': ['cmp_series_CONSULTAR_SERIES-btnEl'], 'types': ['id']}\n",
      "to click: [<splinter.driver.webdriver.WebDriverElement object at 0x0C0F8E30>]\n",
      "no consultar button\n",
      "{'strings': ['cmp_series_CONSULTAR_SERIES-btnEl'], 'types': ['id']}\n",
      "to click: [<splinter.driver.webdriver.WebDriverElement object at 0x067A7610>]\n",
      "no consultar button\n",
      "{'strings': ['cmp_series_CONSULTAR_SERIES-btnEl'], 'types': ['id']}\n",
      "to click: [<splinter.driver.webdriver.WebDriverElement object at 0x0C0F8E30>]\n",
      "no consultar button\n",
      "{'strings': ['cmp_series_CONSULTAR_SERIES-btnEl'], 'types': ['id']}\n",
      "to click: [<splinter.driver.webdriver.WebDriverElement object at 0x0C0F8E30>]\n",
      "no consultar button\n",
      "{'strings': ['cmp_series_CONSULTAR_SERIES-btnEl'], 'types': ['id']}\n",
      "to click: [<splinter.driver.webdriver.WebDriverElement object at 0x0C0F8E30>]\n",
      "no consultar button\n",
      "{'strings': ['cmp_series_CONSULTAR_SERIES-btnEl'], 'types': ['id']}\n",
      "to click: [<splinter.driver.webdriver.WebDriverElement object at 0x067A7610>]\n",
      "consultar button clicked\n",
      "there is no alert\n"
     ]
    }
   ],
   "source": [
    "#Consultar Series (clicking the button and suppressing warnings until the page loads the data)\n",
    "#consultar_series = browser.find_by_id(\"cmp_series_CONSULTAR_SERIES-btnEl\")\n",
    "#consultar_series.click()\n",
    "success = False\n",
    "while success == False:\n",
    "    clicked = False\n",
    "    try:\n",
    "        consultar_series = click_on_something([\"cmp_series_CONSULTAR_SERIES-btnEl\"],[\"id\"])\n",
    "        clicked = True\n",
    "        print(\"consultar button clicked\")\n",
    "    except:\n",
    "        print(\"no consultar button\")\n",
    "    if clicked == True:\n",
    "        try:\n",
    "            alert = browser.get_alert()\n",
    "            alert.accept()\n",
    "            print(\"alert accepted\")\n",
    "        except:\n",
    "            print(\"there is no alert\")\n",
    "            time.sleep(0.5)\n",
    "            test = browser.find_by_css(\".x-mask-msg\")\n",
    "            #Sometimes the button isnt clicked, thus...\n",
    "            if test == []:\n",
    "                consultar_series = click_on_something([\"cmp_series_CONSULTAR_SERIES-btnEl\"],[\"id\"])\n",
    "                print(\"had to click again\")\n",
    "            success = True"
   ]
  },
  {
   "cell_type": "code",
   "execution_count": 14,
   "metadata": {},
   "outputs": [
    {
     "name": "stdout",
     "output_type": "stream",
     "text": [
      "loading...\n"
     ]
    }
   ],
   "source": [
    "loaded = False\n",
    "\n",
    "while loaded == False:\n",
    "    try:\n",
    "        the_table = browser.find_by_id(\"GridSeries\")\n",
    "        header_row = the_table.find_by_css(\".x-box-inner\")[1]\n",
    "        loaded = True\n",
    "    except:\n",
    "        print(\"loading...\")\n",
    "        #sometimes the consultar button isnt clicked in the previous step, thus...\n",
    "            \n",
    "        \n",
    "#Finding Headers of the table\n",
    "header_divs = header_row.find_by_css(\".x-unselectable\")\n",
    "idx = 0\n",
    "headers = []\n",
    "for header in header_divs:\n",
    "    if idx == 0:\n",
    "        headers.append(header.find_by_tag(\"span\").find_by_tag(\"label\")._element.get_attribute(\"innerHTML\"))\n",
    "        idx += 1\n",
    "    else:\n",
    "        headers.append(header.find_by_tag(\"span\")._element.get_attribute(\"innerHTML\"))"
   ]
  },
  {
   "cell_type": "code",
   "execution_count": 15,
   "metadata": {},
   "outputs": [
    {
     "data": {
      "text/html": [
       "<div>\n",
       "<style scoped>\n",
       "    .dataframe tbody tr th:only-of-type {\n",
       "        vertical-align: middle;\n",
       "    }\n",
       "\n",
       "    .dataframe tbody tr th {\n",
       "        vertical-align: top;\n",
       "    }\n",
       "\n",
       "    .dataframe thead th {\n",
       "        text-align: right;\n",
       "    }\n",
       "</style>\n",
       "<table border=\"1\" class=\"dataframe\">\n",
       "  <thead>\n",
       "    <tr style=\"text-align: right;\">\n",
       "      <th></th>\n",
       "      <th>Fecha(Mensual)</th>\n",
       "      <th>XAA - Balance público</th>\n",
       "      <th>XAA10 - Balance presupuestario</th>\n",
       "      <th>XAA11 - Balance financiero del Gobierno Federal</th>\n",
       "      <th>XOA1003 - Balance presupuestario de organismos de control presupuestario directo</th>\n",
       "      <th>XOA0105 - IMSS</th>\n",
       "      <th>XOA0106 - ISSSTE</th>\n",
       "      <th>XOA1006 - Balance presupuestario de empresas productivas del estado</th>\n",
       "      <th>XAA1210 - Balance financiero de Pemex</th>\n",
       "      <th>XOA0101 - CFE</th>\n",
       "      <th>...</th>\n",
       "      <th>XAA31 - Balance presupuestario</th>\n",
       "      <th>XAA3110 - Balance primario del Gobierno Federal</th>\n",
       "      <th>XOA1008 - Balance primario de organismos de control primario directo</th>\n",
       "      <th>XOA0113 - IMSS</th>\n",
       "      <th>XOA0114 - ISSSTE</th>\n",
       "      <th>XOA1011 - Balance primario de empresas productivas del estado</th>\n",
       "      <th>XAA3121 - Balance primario de Pemex</th>\n",
       "      <th>XOA0109 - CFE</th>\n",
       "      <th>XOA1015 - Balance primario Otros organismos y empresas de CPD (Lotenas, LFC y otras)</th>\n",
       "      <th>XAA32 - Balance primario de entidades bajo control presupuestario indirecto</th>\n",
       "    </tr>\n",
       "  </thead>\n",
       "  <tbody>\n",
       "    <tr>\n",
       "      <th>0</th>\n",
       "      <td>01/2019</td>\n",
       "      <td>-42,735.3</td>\n",
       "      <td>-63,488.4</td>\n",
       "      <td>-5,923.5</td>\n",
       "      <td>43,145.7</td>\n",
       "      <td>38,320.5</td>\n",
       "      <td>4,825.2</td>\n",
       "      <td>-100,710.6</td>\n",
       "      <td>-64,453.5</td>\n",
       "      <td>-36,257.1</td>\n",
       "      <td>...</td>\n",
       "      <td>3,069.3</td>\n",
       "      <td>45,678.1</td>\n",
       "      <td>43,145.7</td>\n",
       "      <td>38,320.5</td>\n",
       "      <td>4,825.2</td>\n",
       "      <td>-85,754.5</td>\n",
       "      <td>-52,188.9</td>\n",
       "      <td>-33,565.7</td>\n",
       "      <td>0.0</td>\n",
       "      <td>5,209.3</td>\n",
       "    </tr>\n",
       "    <tr>\n",
       "      <th>1</th>\n",
       "      <td>02/2019</td>\n",
       "      <td>15,108.9</td>\n",
       "      <td>15,006.4</td>\n",
       "      <td>8,280.8</td>\n",
       "      <td>15,619.3</td>\n",
       "      <td>15,562.2</td>\n",
       "      <td>57.1</td>\n",
       "      <td>-8,893.7</td>\n",
       "      <td>-14,683.6</td>\n",
       "      <td>5,789.9</td>\n",
       "      <td>...</td>\n",
       "      <td>42,553.2</td>\n",
       "      <td>21,803.0</td>\n",
       "      <td>15,619.3</td>\n",
       "      <td>15,562.2</td>\n",
       "      <td>57.1</td>\n",
       "      <td>5,130.9</td>\n",
       "      <td>-2,525.8</td>\n",
       "      <td>7,656.6</td>\n",
       "      <td>0.0</td>\n",
       "      <td>1,442.8</td>\n",
       "    </tr>\n",
       "    <tr>\n",
       "      <th>2</th>\n",
       "      <td>03/2019</td>\n",
       "      <td>3,143.6</td>\n",
       "      <td>-5,046.5</td>\n",
       "      <td>-5,120.6</td>\n",
       "      <td>4,354.1</td>\n",
       "      <td>8,459.2</td>\n",
       "      <td>-4,105.1</td>\n",
       "      <td>-4,280.1</td>\n",
       "      <td>-283.7</td>\n",
       "      <td>-3,996.4</td>\n",
       "      <td>...</td>\n",
       "      <td>39,181.4</td>\n",
       "      <td>20,252.5</td>\n",
       "      <td>4,354.1</td>\n",
       "      <td>8,459.2</td>\n",
       "      <td>-4,105.1</td>\n",
       "      <td>14,574.8</td>\n",
       "      <td>16,351.4</td>\n",
       "      <td>-1,776.6</td>\n",
       "      <td>0.0</td>\n",
       "      <td>2,730.0</td>\n",
       "    </tr>\n",
       "    <tr>\n",
       "      <th>3</th>\n",
       "      <td>04/2019</td>\n",
       "      <td>62,526.8</td>\n",
       "      <td>64,860.4</td>\n",
       "      <td>38,666.2</td>\n",
       "      <td>12,616.8</td>\n",
       "      <td>11,871.3</td>\n",
       "      <td>745.5</td>\n",
       "      <td>13,577.4</td>\n",
       "      <td>13,272.1</td>\n",
       "      <td>305.3</td>\n",
       "      <td>...</td>\n",
       "      <td>109,212.9</td>\n",
       "      <td>78,118.1</td>\n",
       "      <td>12,616.8</td>\n",
       "      <td>11,871.3</td>\n",
       "      <td>745.5</td>\n",
       "      <td>18,478.0</td>\n",
       "      <td>16,444.4</td>\n",
       "      <td>2,033.5</td>\n",
       "      <td>0.0</td>\n",
       "      <td>1,457.9</td>\n",
       "    </tr>\n",
       "    <tr>\n",
       "      <th>4</th>\n",
       "      <td>05/2019</td>\n",
       "      <td>-5,692.8</td>\n",
       "      <td>-9,786.5</td>\n",
       "      <td>-23,351.4</td>\n",
       "      <td>7,530.2</td>\n",
       "      <td>6,843.6</td>\n",
       "      <td>686.6</td>\n",
       "      <td>6,034.8</td>\n",
       "      <td>4,102.8</td>\n",
       "      <td>1,931.9</td>\n",
       "      <td>...</td>\n",
       "      <td>9,444.8</td>\n",
       "      <td>-10,318.5</td>\n",
       "      <td>7,530.2</td>\n",
       "      <td>6,843.6</td>\n",
       "      <td>686.6</td>\n",
       "      <td>12,233.1</td>\n",
       "      <td>8,337.5</td>\n",
       "      <td>3,895.6</td>\n",
       "      <td>0.0</td>\n",
       "      <td>2,833.2</td>\n",
       "    </tr>\n",
       "    <tr>\n",
       "      <th>5</th>\n",
       "      <td>06/2019</td>\n",
       "      <td>-152,272.7</td>\n",
       "      <td>-154,664.0</td>\n",
       "      <td>-170,087.5</td>\n",
       "      <td>15,151.3</td>\n",
       "      <td>12,280.1</td>\n",
       "      <td>2,871.3</td>\n",
       "      <td>272.2</td>\n",
       "      <td>-8,445.4</td>\n",
       "      <td>8,717.6</td>\n",
       "      <td>...</td>\n",
       "      <td>5,369.4</td>\n",
       "      <td>-20,358.1</td>\n",
       "      <td>15,151.3</td>\n",
       "      <td>12,280.1</td>\n",
       "      <td>2,871.3</td>\n",
       "      <td>10,576.2</td>\n",
       "      <td>163.1</td>\n",
       "      <td>10,413.2</td>\n",
       "      <td>0.0</td>\n",
       "      <td>5,583.8</td>\n",
       "    </tr>\n",
       "  </tbody>\n",
       "</table>\n",
       "<p>6 rows × 25 columns</p>\n",
       "</div>"
      ],
      "text/plain": [
       "  Fecha(Mensual) XAA - Balance público XAA10 - Balance presupuestario  \\\n",
       "0        01/2019             -42,735.3                      -63,488.4   \n",
       "1        02/2019              15,108.9                       15,006.4   \n",
       "2        03/2019               3,143.6                       -5,046.5   \n",
       "3        04/2019              62,526.8                       64,860.4   \n",
       "4        05/2019              -5,692.8                       -9,786.5   \n",
       "5        06/2019            -152,272.7                     -154,664.0   \n",
       "\n",
       "  XAA11 - Balance financiero del Gobierno Federal  \\\n",
       "0                                        -5,923.5   \n",
       "1                                         8,280.8   \n",
       "2                                        -5,120.6   \n",
       "3                                        38,666.2   \n",
       "4                                       -23,351.4   \n",
       "5                                      -170,087.5   \n",
       "\n",
       "  XOA1003 - Balance presupuestario de organismos de control presupuestario directo  \\\n",
       "0                                           43,145.7                                 \n",
       "1                                           15,619.3                                 \n",
       "2                                            4,354.1                                 \n",
       "3                                           12,616.8                                 \n",
       "4                                            7,530.2                                 \n",
       "5                                           15,151.3                                 \n",
       "\n",
       "  XOA0105 - IMSS XOA0106 - ISSSTE  \\\n",
       "0       38,320.5          4,825.2   \n",
       "1       15,562.2             57.1   \n",
       "2        8,459.2         -4,105.1   \n",
       "3       11,871.3            745.5   \n",
       "4        6,843.6            686.6   \n",
       "5       12,280.1          2,871.3   \n",
       "\n",
       "  XOA1006 - Balance presupuestario de empresas productivas del estado  \\\n",
       "0                                         -100,710.6                    \n",
       "1                                           -8,893.7                    \n",
       "2                                           -4,280.1                    \n",
       "3                                           13,577.4                    \n",
       "4                                            6,034.8                    \n",
       "5                                              272.2                    \n",
       "\n",
       "  XAA1210 - Balance financiero de Pemex XOA0101 - CFE  ...  \\\n",
       "0                             -64,453.5     -36,257.1  ...   \n",
       "1                             -14,683.6       5,789.9  ...   \n",
       "2                                -283.7      -3,996.4  ...   \n",
       "3                              13,272.1         305.3  ...   \n",
       "4                               4,102.8       1,931.9  ...   \n",
       "5                              -8,445.4       8,717.6  ...   \n",
       "\n",
       "  XAA31 - Balance presupuestario  \\\n",
       "0                        3,069.3   \n",
       "1                       42,553.2   \n",
       "2                       39,181.4   \n",
       "3                      109,212.9   \n",
       "4                        9,444.8   \n",
       "5                        5,369.4   \n",
       "\n",
       "  XAA3110 - Balance primario del Gobierno Federal  \\\n",
       "0                                        45,678.1   \n",
       "1                                        21,803.0   \n",
       "2                                        20,252.5   \n",
       "3                                        78,118.1   \n",
       "4                                       -10,318.5   \n",
       "5                                       -20,358.1   \n",
       "\n",
       "  XOA1008 - Balance primario de organismos de control primario directo  \\\n",
       "0                                           43,145.7                     \n",
       "1                                           15,619.3                     \n",
       "2                                            4,354.1                     \n",
       "3                                           12,616.8                     \n",
       "4                                            7,530.2                     \n",
       "5                                           15,151.3                     \n",
       "\n",
       "  XOA0113 - IMSS XOA0114 - ISSSTE  \\\n",
       "0       38,320.5          4,825.2   \n",
       "1       15,562.2             57.1   \n",
       "2        8,459.2         -4,105.1   \n",
       "3       11,871.3            745.5   \n",
       "4        6,843.6            686.6   \n",
       "5       12,280.1          2,871.3   \n",
       "\n",
       "  XOA1011 - Balance primario de empresas productivas del estado  \\\n",
       "0                                          -85,754.5              \n",
       "1                                            5,130.9              \n",
       "2                                           14,574.8              \n",
       "3                                           18,478.0              \n",
       "4                                           12,233.1              \n",
       "5                                           10,576.2              \n",
       "\n",
       "  XAA3121 - Balance primario de Pemex XOA0109 - CFE  \\\n",
       "0                           -52,188.9     -33,565.7   \n",
       "1                            -2,525.8       7,656.6   \n",
       "2                            16,351.4      -1,776.6   \n",
       "3                            16,444.4       2,033.5   \n",
       "4                             8,337.5       3,895.6   \n",
       "5                               163.1      10,413.2   \n",
       "\n",
       "  XOA1015 - Balance primario Otros organismos y empresas de CPD (Lotenas, LFC y otras)  \\\n",
       "0                                                0.0                                     \n",
       "1                                                0.0                                     \n",
       "2                                                0.0                                     \n",
       "3                                                0.0                                     \n",
       "4                                                0.0                                     \n",
       "5                                                0.0                                     \n",
       "\n",
       "  XAA32 - Balance primario de entidades bajo control presupuestario indirecto  \n",
       "0                                            5,209.3                           \n",
       "1                                            1,442.8                           \n",
       "2                                            2,730.0                           \n",
       "3                                            1,457.9                           \n",
       "4                                            2,833.2                           \n",
       "5                                            5,583.8                           \n",
       "\n",
       "[6 rows x 25 columns]"
      ]
     },
     "execution_count": 15,
     "metadata": {},
     "output_type": "execute_result"
    }
   ],
   "source": [
    "#Scraping the data and creating a data frame\n",
    "table_large = the_table.find_by_id(\"GridSeries-body\")\n",
    "\n",
    "table = table_large.find_by_tag(\"table\")\n",
    "\n",
    "rows = table.find_by_tag(\"tr\")\n",
    "\n",
    "data_rows = list(rows)[1:]\n",
    "\n",
    "the_dict = dict((el,[]) for el in headers)\n",
    "\n",
    "for row in data_rows:\n",
    "    to_append = row.text.split(\"\\n\")\n",
    "    for k in range(0,len(the_dict)):\n",
    "        the_dict[headers[k]].append(to_append[k]) \n",
    "\n",
    "df =pd.DataFrame(the_dict)\n",
    "df"
   ]
  },
  {
   "cell_type": "code",
   "execution_count": null,
   "metadata": {},
   "outputs": [],
   "source": []
  },
  {
   "cell_type": "code",
   "execution_count": 16,
   "metadata": {},
   "outputs": [],
   "source": [
    "#Opening the excel file\n",
    "from openpyxl import load_workbook\n",
    "#wb = load_workbook(filename = 'N:/Lsolis/eco/SHCP/Historicos/test.xlsx')\n",
    "wb = load_workbook(filename='N:/Lsolis/eco/SHCP/Historicos/test.xlsm', read_only=False, keep_vba=True)\n"
   ]
  },
  {
   "cell_type": "code",
   "execution_count": 17,
   "metadata": {},
   "outputs": [],
   "source": [
    "sheet_ranges = wb['1.1.1S']\n"
   ]
  },
  {
   "cell_type": "code",
   "execution_count": 18,
   "metadata": {},
   "outputs": [],
   "source": [
    "#determining whether or not a new row must be inserted\n",
    "done = False\n",
    "row_ = 3\n",
    "while done == False:\n",
    "    if sheet_ranges[f'A{row_}'].value or sheet_ranges[f'A{row_}'].value == 0:\n",
    "        #print(sheet_ranges[f'A{row_}'].value)\n",
    "        row_ += 1\n",
    "    else:\n",
    "        done = True\n",
    "\n",
    "last_row = row_ - 1\n",
    "\n",
    "current_year = int(sheet_ranges[f'A{last_row}'].value[-4:])\n",
    "\n",
    "current_month = int(sheet_ranges[f'A{last_row}'].value[:2])\n",
    "\n",
    "if current_month == 12:\n",
    "    current_year += 1\n",
    "\n",
    "previous_year = current_year - 1\n",
    "\n",
    "done = False\n",
    "row_ = 4\n",
    "while done == False:\n",
    "    if sheet_ranges[f'A{row_}'].value or sheet_ranges[f'A{row_}'].value == 0:\n",
    "        if int(sheet_ranges[f'A{row_}'].value[-4:]) == previous_year:\n",
    "            last_row_previous = row_\n",
    "            #print(sheet_ranges[f'A{row_}'].value)  \n",
    "        row_ += 1\n",
    "    else:\n",
    "        done = True\n",
    "\n",
    "if len(df) > (last_row-last_row_previous):\n",
    "    sheet_ranges.insert_rows(last_row + 1, len(df)-(last_row - last_row_previous))"
   ]
  },
  {
   "cell_type": "code",
   "execution_count": 19,
   "metadata": {},
   "outputs": [],
   "source": [
    "#finding row range to which values will be inserted"
   ]
  },
  {
   "cell_type": "code",
   "execution_count": 20,
   "metadata": {},
   "outputs": [],
   "source": [
    "ins_begin = last_row_previous + 1\n",
    "\n",
    "ins_end = ins_begin + len(df) - 1\n"
   ]
  },
  {
   "cell_type": "code",
   "execution_count": 21,
   "metadata": {},
   "outputs": [
    {
     "data": {
      "text/plain": [
       "True"
      ]
     },
     "execution_count": 21,
     "metadata": {},
     "output_type": "execute_result"
    }
   ],
   "source": [
    "#Making sure headers in excel are equal to headers in dataframe\n",
    "\n",
    "sheet_col_heads = []\n",
    "for col in range(0,sheet_ranges.max_column):\n",
    "    sheet_col_heads.append(sheet_ranges['A3'].offset(0,col).value)\n",
    "\n",
    "stripped_col_heads = []\n",
    "for head in sheet_col_heads:\n",
    "    stripped_col_heads.append(head.strip())\n",
    "\n",
    "compare = list(df.columns)\n",
    "stripped_col_heads == compare"
   ]
  },
  {
   "cell_type": "code",
   "execution_count": 22,
   "metadata": {},
   "outputs": [],
   "source": [
    "#Insert Values from dataframe into excel with some format\n",
    "row_height = sheet_ranges.row_dimensions[last_row_previous].height\n",
    "for col in range(1,len(stripped_col_heads) + 1):\n",
    "    for rw in range(ins_begin, ins_end + 1):\n",
    "        #pasting value in cell\n",
    "        try:\n",
    "            sheet_ranges.cell(rw,col).value = float((df[stripped_col_heads[col - 1]][rw-ins_begin]).replace(\",\",\"\"))\n",
    "            sheet_ranges.cell(rw,col).number_format = '#,###.0'\n",
    "        except ValueError:\n",
    "            sheet_ranges.cell(rw,col).value = (df[stripped_col_heads[col - 1]][rw-ins_begin]).replace(\",\",\"\")\n",
    "        #setting font style and size    \n",
    "        sheet_ranges.cell(rw,col).font = Font(name='Arial', size=9)\n",
    "        #setting border of cell\n",
    "        border = Border(left=Side(border_style='thin', color='E4E4E4'),\n",
    "                        right=Side(border_style='thin', color='E4E4E4'),\n",
    "                        top=Side(border_style='thin', color='E4E4E4'),\n",
    "                        bottom=Side(border_style='thin', color='E4E4E4'))\n",
    "        sheet_ranges.cell(rw,col).border = border\n",
    "        #setting alignment of text in cell\n",
    "        alignment=Alignment(horizontal='right',\n",
    "                            vertical='top')\n",
    "        sheet_ranges.cell(rw,col).alignment = alignment\n",
    "        #setting row height\n",
    "        sheet_ranges.row_dimensions[rw].height = row_height\n",
    "        #setting fill color of cell\n",
    "        greyFill = PatternFill(start_color='DCDCDC',\n",
    "                   end_color='DCDCDC',\n",
    "                   fill_type='solid')\n",
    "        whiteFill = PatternFill(start_color='FFFFFF',\n",
    "            end_color='FFFFFF',\n",
    "            fill_type='solid')\n",
    "        if rw % 2 == 0:\n",
    "            sheet_ranges.cell(rw,col).fill = greyFill \n",
    "        else:\n",
    "            sheet_ranges.cell(rw,col).fill = whiteFill"
   ]
  },
  {
   "cell_type": "code",
   "execution_count": 23,
   "metadata": {},
   "outputs": [],
   "source": [
    "wb.save(filename = 'N:/Lsolis/eco/SHCP/Historicos/test.xlsm')"
   ]
  },
  {
   "cell_type": "code",
   "execution_count": null,
   "metadata": {},
   "outputs": [],
   "source": []
  },
  {
   "cell_type": "code",
   "execution_count": null,
   "metadata": {},
   "outputs": [],
   "source": []
  },
  {
   "cell_type": "code",
   "execution_count": null,
   "metadata": {},
   "outputs": [],
   "source": []
  },
  {
   "cell_type": "code",
   "execution_count": null,
   "metadata": {},
   "outputs": [],
   "source": []
  },
  {
   "cell_type": "code",
   "execution_count": null,
   "metadata": {},
   "outputs": [],
   "source": []
  },
  {
   "cell_type": "code",
   "execution_count": null,
   "metadata": {},
   "outputs": [],
   "source": []
  },
  {
   "cell_type": "code",
   "execution_count": null,
   "metadata": {},
   "outputs": [],
   "source": []
  },
  {
   "cell_type": "code",
   "execution_count": null,
   "metadata": {},
   "outputs": [],
   "source": []
  },
  {
   "cell_type": "code",
   "execution_count": null,
   "metadata": {},
   "outputs": [],
   "source": []
  },
  {
   "cell_type": "code",
   "execution_count": null,
   "metadata": {},
   "outputs": [],
   "source": []
  },
  {
   "cell_type": "code",
   "execution_count": null,
   "metadata": {},
   "outputs": [],
   "source": []
  },
  {
   "cell_type": "code",
   "execution_count": null,
   "metadata": {},
   "outputs": [],
   "source": []
  },
  {
   "cell_type": "code",
   "execution_count": null,
   "metadata": {},
   "outputs": [],
   "source": []
  },
  {
   "cell_type": "code",
   "execution_count": null,
   "metadata": {},
   "outputs": [],
   "source": []
  },
  {
   "cell_type": "code",
   "execution_count": null,
   "metadata": {},
   "outputs": [],
   "source": []
  },
  {
   "cell_type": "code",
   "execution_count": null,
   "metadata": {},
   "outputs": [],
   "source": []
  },
  {
   "cell_type": "code",
   "execution_count": 155,
   "metadata": {},
   "outputs": [
    {
     "data": {
      "text/plain": [
       "['ext-gen1107']"
      ]
     },
     "execution_count": 155,
     "metadata": {},
     "output_type": "execute_result"
    }
   ],
   "source": [
    "used_already = []\n",
    "\n",
    "used_already.append(cifras_drop._element.get_attribute('id'))\n",
    "used_already"
   ]
  },
  {
   "cell_type": "code",
   "execution_count": 141,
   "metadata": {},
   "outputs": [
    {
     "name": "stdout",
     "output_type": "stream",
     "text": [
      "{'strings': ['x-boundlist-item'], 'types': ['css']}\n",
      "to click: [<splinter.driver.webdriver.WebDriverElement object at 0x0599B8B0>, <splinter.driver.webdriver.WebDriverElement object at 0x0599BA10>, <splinter.driver.webdriver.WebDriverElement object at 0x0599BED0>]\n"
     ]
    }
   ],
   "source": [
    "cifras_opts = click_on_something([\"x-boundlist-item\"],[\"css\"],False,\"Millones de pesos\")"
   ]
  },
  {
   "cell_type": "code",
   "execution_count": 152,
   "metadata": {},
   "outputs": [
    {
     "data": {
      "text/plain": [
       "''"
      ]
     },
     "execution_count": 152,
     "metadata": {},
     "output_type": "execute_result"
    }
   ],
   "source": []
  },
  {
   "cell_type": "code",
   "execution_count": 167,
   "metadata": {},
   "outputs": [
    {
     "data": {
      "text/plain": [
       "['boundlist-1055']"
      ]
     },
     "execution_count": 167,
     "metadata": {},
     "output_type": "execute_result"
    }
   ],
   "source": [
    "\n",
    "\n",
    "#Click on Millones de pesos in the cifras drop-down menu\n",
    "\n",
    "cifras_opts = browser.find_by_css(\".x-boundlist\")\n",
    "\n",
    "used_already = []\n",
    "\n",
    "used_already.append(cifras_opts._element.get_attribute('id'))\n",
    "used_already"
   ]
  },
  {
   "cell_type": "code",
   "execution_count": 169,
   "metadata": {},
   "outputs": [
    {
     "name": "stdout",
     "output_type": "stream",
     "text": [
      "boundlist-1055\n",
      "boundlist-1069\n"
     ]
    }
   ],
   "source": [
    "for opt in cifras_opts:\n",
    "    print(opt._element.get_attribute(\"id\"))"
   ]
  },
  {
   "cell_type": "code",
   "execution_count": null,
   "metadata": {},
   "outputs": [],
   "source": []
  },
  {
   "cell_type": "code",
   "execution_count": null,
   "metadata": {},
   "outputs": [],
   "source": []
  },
  {
   "cell_type": "code",
   "execution_count": 126,
   "metadata": {},
   "outputs": [],
   "source": [
    "cifras_opts = browser.find_by_css(\".x-boundlist\")"
   ]
  },
  {
   "cell_type": "code",
   "execution_count": 127,
   "metadata": {},
   "outputs": [],
   "source": [
    "items = cifras_opts.find_by_css(\".x-boundlist-item\")"
   ]
  },
  {
   "cell_type": "code",
   "execution_count": 128,
   "metadata": {},
   "outputs": [
    {
     "data": {
      "text/plain": [
       "[<splinter.driver.webdriver.WebDriverElement at 0x599b650>,\n",
       " <splinter.driver.webdriver.WebDriverElement at 0x599b5f0>,\n",
       " <splinter.driver.webdriver.WebDriverElement at 0x599b6f0>]"
      ]
     },
     "execution_count": 128,
     "metadata": {},
     "output_type": "execute_result"
    }
   ],
   "source": [
    "items"
   ]
  },
  {
   "cell_type": "code",
   "execution_count": 131,
   "metadata": {},
   "outputs": [],
   "source": [
    "for item in items:\n",
    "    if item.text == \"Millones de pesos\":\n",
    "        item.click()"
   ]
  },
  {
   "cell_type": "code",
   "execution_count": 19,
   "metadata": {},
   "outputs": [
    {
     "data": {
      "text/plain": [
       "[<splinter.driver.webdriver.WebDriverElement at 0xb6f5df0>]"
      ]
     },
     "execution_count": 19,
     "metadata": {},
     "output_type": "execute_result"
    }
   ],
   "source": [
    "cifras_opts"
   ]
  },
  {
   "cell_type": "code",
   "execution_count": 20,
   "metadata": {},
   "outputs": [],
   "source": [
    "used_already = []"
   ]
  },
  {
   "cell_type": "code",
   "execution_count": 21,
   "metadata": {},
   "outputs": [],
   "source": [
    "used_already.append(cifras_opts._element.get_attribute('id'))"
   ]
  },
  {
   "cell_type": "code",
   "execution_count": 22,
   "metadata": {},
   "outputs": [
    {
     "data": {
      "text/plain": [
       "['boundlist-1053']"
      ]
     },
     "execution_count": 22,
     "metadata": {},
     "output_type": "execute_result"
    }
   ],
   "source": [
    "used_already"
   ]
  },
  {
   "cell_type": "code",
   "execution_count": 17,
   "metadata": {},
   "outputs": [],
   "source": [
    "cifras_opts = cifras_opts.find_by_css(\".x-boundlist-item\")"
   ]
  },
  {
   "cell_type": "code",
   "execution_count": 191,
   "metadata": {},
   "outputs": [],
   "source": [
    "cifras_opts[0].click()"
   ]
  },
  {
   "cell_type": "code",
   "execution_count": 192,
   "metadata": {},
   "outputs": [],
   "source": [
    "low_lim_drop = browser.find_by_id(\"cmp_cuadro_DE\").find_by_css(\".x-trigger-cell\").find_by_css(\".x-trigger-index-0\")"
   ]
  },
  {
   "cell_type": "code",
   "execution_count": 193,
   "metadata": {},
   "outputs": [],
   "source": [
    "low_lim_drop.click()"
   ]
  },
  {
   "cell_type": "code",
   "execution_count": 194,
   "metadata": {},
   "outputs": [],
   "source": [
    "low_lim_opts = browser.find_by_css(\".x-boundlist\")"
   ]
  },
  {
   "cell_type": "code",
   "execution_count": 195,
   "metadata": {},
   "outputs": [
    {
     "data": {
      "text/plain": [
       "[<splinter.driver.webdriver.WebDriverElement at 0xffbc70>,\n",
       " <splinter.driver.webdriver.WebDriverElement at 0xffb5f0>]"
      ]
     },
     "execution_count": 195,
     "metadata": {},
     "output_type": "execute_result"
    }
   ],
   "source": [
    "low_lim_opts"
   ]
  },
  {
   "cell_type": "code",
   "execution_count": 196,
   "metadata": {},
   "outputs": [],
   "source": [
    "\n",
    "for opt in low_lim_opts:\n",
    "    if opt._element.get_attribute('id') not in used_already:\n",
    "        to_use = opt\n",
    "        used_already.append(to_use._element.get_attribute('id'))"
   ]
  },
  {
   "cell_type": "code",
   "execution_count": 197,
   "metadata": {},
   "outputs": [
    {
     "data": {
      "text/plain": [
       "['boundlist-1066', 'boundlist-1068']"
      ]
     },
     "execution_count": 197,
     "metadata": {},
     "output_type": "execute_result"
    }
   ],
   "source": [
    "used_already"
   ]
  },
  {
   "cell_type": "code",
   "execution_count": 198,
   "metadata": {},
   "outputs": [],
   "source": [
    "opts = to_use.find_by_css(\".x-boundlist-item\")"
   ]
  },
  {
   "cell_type": "code",
   "execution_count": 199,
   "metadata": {},
   "outputs": [],
   "source": [
    "opts[1].click()"
   ]
  },
  {
   "cell_type": "code",
   "execution_count": 200,
   "metadata": {},
   "outputs": [],
   "source": [
    "up_lim_drop = browser.find_by_id(\"cmp_cuadro_A\").find_by_css(\".x-trigger-index-0\")"
   ]
  },
  {
   "cell_type": "code",
   "execution_count": 201,
   "metadata": {},
   "outputs": [],
   "source": [
    "up_lim_drop.click()"
   ]
  },
  {
   "cell_type": "code",
   "execution_count": 202,
   "metadata": {},
   "outputs": [],
   "source": [
    "up_lim_opts = browser.find_by_css(\".x-boundlist\")"
   ]
  },
  {
   "cell_type": "code",
   "execution_count": 203,
   "metadata": {},
   "outputs": [
    {
     "data": {
      "text/plain": [
       "[<splinter.driver.webdriver.WebDriverElement at 0xc26ff10>,\n",
       " <splinter.driver.webdriver.WebDriverElement at 0xc26fad0>,\n",
       " <splinter.driver.webdriver.WebDriverElement at 0xc26ff90>]"
      ]
     },
     "execution_count": 203,
     "metadata": {},
     "output_type": "execute_result"
    }
   ],
   "source": [
    "up_lim_opts"
   ]
  },
  {
   "cell_type": "code",
   "execution_count": 204,
   "metadata": {},
   "outputs": [],
   "source": [
    "for opt in up_lim_opts:\n",
    "    if opt._element.get_attribute('id') not in used_already:\n",
    "        to_use = opt\n",
    "        used_already.append(to_use._element.get_attribute('id'))"
   ]
  },
  {
   "cell_type": "code",
   "execution_count": 205,
   "metadata": {},
   "outputs": [
    {
     "data": {
      "text/plain": [
       "['boundlist-1066', 'boundlist-1068', 'boundlist-1070']"
      ]
     },
     "execution_count": 205,
     "metadata": {},
     "output_type": "execute_result"
    }
   ],
   "source": [
    "used_already"
   ]
  },
  {
   "cell_type": "code",
   "execution_count": 206,
   "metadata": {},
   "outputs": [],
   "source": [
    "opts = to_use.find_by_css(\".x-boundlist-item\")"
   ]
  },
  {
   "cell_type": "code",
   "execution_count": 207,
   "metadata": {},
   "outputs": [],
   "source": [
    "opts[0].click()"
   ]
  },
  {
   "cell_type": "code",
   "execution_count": null,
   "metadata": {},
   "outputs": [],
   "source": []
  },
  {
   "cell_type": "code",
   "execution_count": 208,
   "metadata": {},
   "outputs": [],
   "source": [
    "consultar_series = browser.find_by_id(\"cmp_series_CONSULTAR_SERIES-btnEl\")"
   ]
  },
  {
   "cell_type": "code",
   "execution_count": 209,
   "metadata": {},
   "outputs": [],
   "source": [
    "consultar_series.click()"
   ]
  },
  {
   "cell_type": "code",
   "execution_count": null,
   "metadata": {},
   "outputs": [],
   "source": []
  },
  {
   "cell_type": "code",
   "execution_count": 210,
   "metadata": {},
   "outputs": [],
   "source": [
    "table_large = browser.find_by_id(\"GridSeries-body\")"
   ]
  },
  {
   "cell_type": "code",
   "execution_count": 211,
   "metadata": {},
   "outputs": [],
   "source": [
    "table = table_large.find_by_tag(\"table\")"
   ]
  },
  {
   "cell_type": "code",
   "execution_count": 212,
   "metadata": {},
   "outputs": [],
   "source": [
    "rows = table.find_by_tag(\"tr\")"
   ]
  },
  {
   "cell_type": "code",
   "execution_count": 213,
   "metadata": {},
   "outputs": [],
   "source": [
    "last_row = rows[-1]"
   ]
  },
  {
   "cell_type": "code",
   "execution_count": 214,
   "metadata": {},
   "outputs": [],
   "source": [
    "cells = last_row.find_by_tag(\"td\")"
   ]
  },
  {
   "cell_type": "code",
   "execution_count": 215,
   "metadata": {},
   "outputs": [],
   "source": [
    "to_insert = []\n",
    "for cell in cells:\n",
    "    to_insert.append(cell.text)"
   ]
  },
  {
   "cell_type": "code",
   "execution_count": 216,
   "metadata": {},
   "outputs": [
    {
     "data": {
      "text/plain": [
       "['06/2019',\n",
       " '-152,272.7',\n",
       " '-154,664.0',\n",
       " '-170,087.5',\n",
       " '15,151.3',\n",
       " '12,280.1',\n",
       " '2,871.3',\n",
       " '272.2',\n",
       " '-8,445.4',\n",
       " '8,717.6',\n",
       " '0.0',\n",
       " '2,391.3',\n",
       " '5,583.2',\n",
       " '-3,191.8',\n",
       " '10,953.2',\n",
       " '5,369.4',\n",
       " '-20,358.1',\n",
       " '15,151.3',\n",
       " '12,280.1',\n",
       " '2,871.3',\n",
       " '10,576.2',\n",
       " '163.1',\n",
       " '10,413.2',\n",
       " '0.0',\n",
       " '5,583.8']"
      ]
     },
     "execution_count": 216,
     "metadata": {},
     "output_type": "execute_result"
    }
   ],
   "source": [
    "to_insert"
   ]
  },
  {
   "cell_type": "code",
   "execution_count": 271,
   "metadata": {},
   "outputs": [],
   "source": [
    "the_table = browser.find_by_id(\"GridSeries\")"
   ]
  },
  {
   "cell_type": "code",
   "execution_count": null,
   "metadata": {},
   "outputs": [],
   "source": []
  },
  {
   "cell_type": "code",
   "execution_count": 272,
   "metadata": {},
   "outputs": [],
   "source": [
    "header_row = the_table.find_by_css(\".x-box-inner\")[1]"
   ]
  },
  {
   "cell_type": "code",
   "execution_count": 273,
   "metadata": {},
   "outputs": [
    {
     "data": {
      "text/plain": [
       "'headercontainer-1072-innerCt'"
      ]
     },
     "execution_count": 273,
     "metadata": {},
     "output_type": "execute_result"
    }
   ],
   "source": [
    "header_row[\"id\"]"
   ]
  },
  {
   "cell_type": "code",
   "execution_count": null,
   "metadata": {},
   "outputs": [],
   "source": []
  },
  {
   "cell_type": "code",
   "execution_count": 276,
   "metadata": {},
   "outputs": [],
   "source": [
    "header_divs = header_row.find_by_css(\".x-unselectable\")"
   ]
  },
  {
   "cell_type": "code",
   "execution_count": null,
   "metadata": {},
   "outputs": [],
   "source": [
    "header_divs[0] = header_divs[0].find_by_tag(\"span\")._element.get_attribute(\"innerHTML\")"
   ]
  },
  {
   "cell_type": "code",
   "execution_count": 275,
   "metadata": {},
   "outputs": [
    {
     "name": "stdout",
     "output_type": "stream",
     "text": [
      "<label class=\"fontStandard fontHeader\">Fecha(Mensual)</label>\n",
      "XAA - Balance público\n",
      "XAA10 - Balance presupuestario\n",
      "XAA11 - Balance financiero del Gobierno Federal\n",
      "XOA1003 - Balance presupuestario de organismos de control presupuestario directo\n",
      "XOA0105 - IMSS\n",
      "XOA0106 - ISSSTE\n",
      "XOA1006 - Balance presupuestario de empresas productivas del estado\n",
      "XAA1210 - Balance financiero de Pemex\n",
      "XOA0101 - CFE\n",
      "XOA1014 - Balance presupuestario Otros organismos y empresas de CPD (Lotenas, LFC y otras)\n",
      "XAA20 - Balance financiero de entidades bajo control presupuestario indirecto\n",
      "XOA0195 - Balance no presupuestario\n",
      "XOA0108 - Diferencia con fuentes de financiamiento\n",
      "XAA30 - Balance primario\n",
      "XAA31 - Balance presupuestario\n",
      "XAA3110 - Balance primario del Gobierno Federal\n",
      "XOA1008 - Balance primario de organismos de control primario directo\n",
      "XOA0113 - IMSS\n",
      "XOA0114 - ISSSTE\n",
      "XOA1011 - Balance primario de empresas productivas del estado\n",
      "XAA3121 - Balance primario de Pemex\n",
      "XOA0109 - CFE\n",
      "XOA1015 - Balance primario Otros organismos y empresas de CPD (Lotenas, LFC y otras)\n",
      "XAA32 - Balance primario de entidades bajo control presupuestario indirecto\n"
     ]
    }
   ],
   "source": [
    "for header in header_divs:\n",
    "    print(header.find_by_tag(\"span\")._element.get_attribute(\"innerHTML\"))"
   ]
  },
  {
   "cell_type": "code",
   "execution_count": 262,
   "metadata": {},
   "outputs": [],
   "source": [
    "test = header_divs[1]"
   ]
  },
  {
   "cell_type": "code",
   "execution_count": 268,
   "metadata": {},
   "outputs": [
    {
     "data": {
      "text/plain": [
       "'XAA - Balance público'"
      ]
     },
     "execution_count": 268,
     "metadata": {},
     "output_type": "execute_result"
    }
   ],
   "source": [
    "test.find_by_tag(\"span\").text"
   ]
  },
  {
   "cell_type": "code",
   "execution_count": null,
   "metadata": {},
   "outputs": [],
   "source": []
  },
  {
   "cell_type": "code",
   "execution_count": null,
   "metadata": {},
   "outputs": [],
   "source": []
  },
  {
   "cell_type": "code",
   "execution_count": 250,
   "metadata": {},
   "outputs": [],
   "source": [
    "headers = header_divs.find_by_css(\".x-column-header-inner\").find_by_tag(\"span\")"
   ]
  },
  {
   "cell_type": "code",
   "execution_count": 251,
   "metadata": {},
   "outputs": [
    {
     "data": {
      "text/plain": [
       "[<splinter.driver.webdriver.WebDriverElement at 0xfdbe50>]"
      ]
     },
     "execution_count": 251,
     "metadata": {},
     "output_type": "execute_result"
    }
   ],
   "source": [
    "headers"
   ]
  },
  {
   "cell_type": "code",
   "execution_count": null,
   "metadata": {},
   "outputs": [],
   "source": []
  },
  {
   "cell_type": "code",
   "execution_count": 246,
   "metadata": {},
   "outputs": [
    {
     "data": {
      "text/plain": [
       "[<splinter.driver.webdriver.WebDriverElement at 0xfdb790>]"
      ]
     },
     "execution_count": 246,
     "metadata": {},
     "output_type": "execute_result"
    }
   ],
   "source": [
    "headers"
   ]
  },
  {
   "cell_type": "code",
   "execution_count": 252,
   "metadata": {},
   "outputs": [],
   "source": [
    "headers_text = [] \n",
    "for header in headers:\n",
    "    headers_text.append(header._element.get_attribute(\"innerHTML\"))"
   ]
  },
  {
   "cell_type": "code",
   "execution_count": 253,
   "metadata": {},
   "outputs": [
    {
     "data": {
      "text/plain": [
       "24"
      ]
     },
     "execution_count": 253,
     "metadata": {},
     "output_type": "execute_result"
    }
   ],
   "source": [
    "len(to_headers)"
   ]
  },
  {
   "cell_type": "code",
   "execution_count": 254,
   "metadata": {},
   "outputs": [
    {
     "data": {
      "text/plain": [
       "['<label class=\"fontStandard fontHeader\">Fecha(Mensual)</label>']"
      ]
     },
     "execution_count": 254,
     "metadata": {},
     "output_type": "execute_result"
    }
   ],
   "source": [
    "headers_text"
   ]
  },
  {
   "cell_type": "code",
   "execution_count": 224,
   "metadata": {},
   "outputs": [],
   "source": [
    "to_headers = headers_text[1:]"
   ]
  },
  {
   "cell_type": "code",
   "execution_count": 225,
   "metadata": {},
   "outputs": [
    {
     "data": {
      "text/plain": [
       "24"
      ]
     },
     "execution_count": 225,
     "metadata": {},
     "output_type": "execute_result"
    }
   ],
   "source": [
    "len(to_headers)"
   ]
  },
  {
   "cell_type": "code",
   "execution_count": 173,
   "metadata": {},
   "outputs": [
    {
     "data": {
      "text/plain": [
       "25"
      ]
     },
     "execution_count": 173,
     "metadata": {},
     "output_type": "execute_result"
    }
   ],
   "source": [
    "len(to_insert)"
   ]
  },
  {
   "cell_type": "code",
   "execution_count": 57,
   "metadata": {},
   "outputs": [],
   "source": [
    "headers = header_row.find_by_tag(\"tr\")"
   ]
  },
  {
   "cell_type": "code",
   "execution_count": 58,
   "metadata": {},
   "outputs": [],
   "source": [
    "header_text = []\n",
    "for header in headers:\n",
    "    header_text.append(header._element.get_attribute('value'))"
   ]
  },
  {
   "cell_type": "code",
   "execution_count": 59,
   "metadata": {},
   "outputs": [
    {
     "data": {
      "text/plain": [
       "[]"
      ]
     },
     "execution_count": 59,
     "metadata": {},
     "output_type": "execute_result"
    }
   ],
   "source": [
    "header_text"
   ]
  },
  {
   "cell_type": "code",
   "execution_count": null,
   "metadata": {},
   "outputs": [],
   "source": [
    "\n",
    "sobretasa = browser.find_by_id(\"txtSobreTasa\")._element.get_attribute('value')"
   ]
  },
  {
   "cell_type": "code",
   "execution_count": null,
   "metadata": {},
   "outputs": [],
   "source": []
  },
  {
   "cell_type": "code",
   "execution_count": 37,
   "metadata": {},
   "outputs": [],
   "source": [
    "test = browser.find_by_tag(\"tr\")"
   ]
  },
  {
   "cell_type": "code",
   "execution_count": 38,
   "metadata": {},
   "outputs": [],
   "source": [
    "row = test[-1]"
   ]
  },
  {
   "cell_type": "code",
   "execution_count": 39,
   "metadata": {},
   "outputs": [
    {
     "data": {
      "text/plain": [
       "<splinter.driver.webdriver.WebDriverElement at 0xc284f10>"
      ]
     },
     "execution_count": 39,
     "metadata": {},
     "output_type": "execute_result"
    }
   ],
   "source": [
    "row"
   ]
  },
  {
   "cell_type": "code",
   "execution_count": 40,
   "metadata": {},
   "outputs": [
    {
     "data": {
      "text/plain": [
       "[<splinter.driver.webdriver.WebDriverElement at 0xc2784b0>,\n",
       " <splinter.driver.webdriver.WebDriverElement at 0xc2784f0>]"
      ]
     },
     "execution_count": 40,
     "metadata": {},
     "output_type": "execute_result"
    }
   ],
   "source": [
    "row.find_by_tag(\"td\")"
   ]
  },
  {
   "cell_type": "code",
   "execution_count": null,
   "metadata": {},
   "outputs": [],
   "source": []
  },
  {
   "cell_type": "code",
   "execution_count": null,
   "metadata": {},
   "outputs": [],
   "source": []
  },
  {
   "cell_type": "code",
   "execution_count": 246,
   "metadata": {},
   "outputs": [
    {
     "data": {
      "text/plain": [
       "'boundlist-1069'"
      ]
     },
     "execution_count": 246,
     "metadata": {},
     "output_type": "execute_result"
    }
   ],
   "source": [
    "to_use._element.get_attribute('id')"
   ]
  },
  {
   "cell_type": "code",
   "execution_count": 247,
   "metadata": {},
   "outputs": [
    {
     "data": {
      "text/plain": [
       "'boundlist-1066'"
      ]
     },
     "execution_count": 247,
     "metadata": {},
     "output_type": "execute_result"
    }
   ],
   "source": [
    "used_already"
   ]
  },
  {
   "cell_type": "code",
   "execution_count": null,
   "metadata": {},
   "outputs": [],
   "source": []
  },
  {
   "cell_type": "code",
   "execution_count": null,
   "metadata": {},
   "outputs": [],
   "source": [
    "\n",
    "for opt in up_lim_opts:\n",
    "    if opt._element.get_attribute('id') not in used_already:\n",
    "        to_use = opt"
   ]
  },
  {
   "cell_type": "code",
   "execution_count": 239,
   "metadata": {},
   "outputs": [
    {
     "data": {
      "text/plain": [
       "[<splinter.driver.webdriver.WebDriverElement at 0x1953050>]"
      ]
     },
     "execution_count": 239,
     "metadata": {},
     "output_type": "execute_result"
    }
   ],
   "source": [
    "up_lim_drop"
   ]
  },
  {
   "cell_type": "code",
   "execution_count": null,
   "metadata": {},
   "outputs": [],
   "source": []
  },
  {
   "cell_type": "code",
   "execution_count": null,
   "metadata": {},
   "outputs": [],
   "source": [
    "##### CUADRO ######"
   ]
  },
  {
   "cell_type": "code",
   "execution_count": 36,
   "metadata": {},
   "outputs": [],
   "source": [
    "executable_path = {'executable_path': 'chromedriver.exe'}\n",
    "browser = Browser('chrome', **executable_path, headless=False)\n",
    "\n",
    "#base_url = \"presto.hacienda.gob.mx\"\n",
    "#table_url = \"/presto/files/system/mashlets/app_layout_estopor/index.html?param_formato_desc=Balance%20del%20Sector%20P%C3%BAblico&param_formato=1&param_unidad=1&param_tipo=1&param_lenguaje=1&param_clasificacion=1& \"\n",
    "\n",
    "url = \"http://presto.hacienda.gob.mx/presto/files/system/mashlets/app_layout_estopor/index.html?param_formato_desc=Balance%20del%20Sector%20P%C3%BAblico&param_formato=1&param_unidad=1&param_tipo=1&param_lenguaje=1&param_clasificacion=1&\"\n",
    "#url = \"http://www.banxico.org.mx/\"\n",
    "browser.visit(url)"
   ]
  },
  {
   "cell_type": "code",
   "execution_count": null,
   "metadata": {},
   "outputs": [],
   "source": []
  },
  {
   "cell_type": "code",
   "execution_count": null,
   "metadata": {},
   "outputs": [],
   "source": []
  },
  {
   "cell_type": "code",
   "execution_count": null,
   "metadata": {},
   "outputs": [],
   "source": []
  }
 ],
 "metadata": {
  "kernelspec": {
   "display_name": "Python 3",
   "language": "python",
   "name": "python3"
  },
  "language_info": {
   "codemirror_mode": {
    "name": "ipython",
    "version": 3
   },
   "file_extension": ".py",
   "mimetype": "text/x-python",
   "name": "python",
   "nbconvert_exporter": "python",
   "pygments_lexer": "ipython3",
   "version": "3.7.3"
  }
 },
 "nbformat": 4,
 "nbformat_minor": 2
}
